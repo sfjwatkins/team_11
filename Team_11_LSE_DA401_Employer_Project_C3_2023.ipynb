{
 "cells": [
  {
   "cell_type": "markdown",
   "metadata": {
    "slideshow": {
     "slide_type": "slide"
    }
   },
   "source": [
    "# Employer Project: the Bank of England\n",
    "\n",
    "## 1. Introduction\n",
    "\n",
    "The client for this project is the Bank of England. Here is an excerpt from the project briefing, profiling the Bank:\n",
    "\n",
    "> The Bank of England's mission is to promote the good of the people of the United Kingdom by maintaining monetary and financial stability. The Bank of England plays a multifaceted role in the national economy. Its primary objectives include maintaining price stability and supporting the government’s economic policies. To achieve this, the Bank has control over monetary policy instruments, primarily the setting of interest rates. By altering interest rates, the Bank can influence borrowing costs for businesses and individuals, which in turn affects spending, investment, and inflation. \n",
    "\n",
    "More information about the Bank of England can be found [here.](https://www.bankofengland.co.uk/about)\n",
    "\n",
    "\n",
    "The scenario for this project, as outlined in the briefing, is as follows: \n",
    "\n",
    "> Part of the job of the Bank of England is to provide reassurance and stability to financial markets. One way this is achieved is through representatives of the Bank delivering speeches at various public events. As an organisation, the Bank of England is interested in how the trends in these speeches correlate with observed events and economic indicators, as well as how the sentiment of these speeches can be used to predict market behaviour. This analysis will inform our understanding of the impact of the Bank’s communications on the economy, as well as the predictive power of using this data set."
   ]
  },
  {
   "cell_type": "markdown",
   "metadata": {},
   "source": [
    "### 1.1 Business Questions\n",
    "\n",
    "To provide insight into the above, The Bank of England's Data Strategy & Implementation Division needs answers to the following questions:\n",
    "\n",
    "1. Has the sentiment of central bank speeches changed over time? If so, how has it changed?\n",
    "<br>\n",
    "<br>\n",
    "2. How does the sentiment of the Bank of England’s speeches correlate with key events such as:\n",
    "    * bank rate decisions (including direction/magnitude of the change)\n",
    "    * publication of the Monetary Policy Report\n",
    "    * publication of the  Financial Stability Report/Review\n",
    "    * any other events or trends that may be relevant or interesting?  \n",
    "<br>\n",
    "<br>\n",
    "3. How does the sentiment of speeches correlate with key economic indicators of the UK, such as:\n",
    "    * GDP growth\n",
    "    * inflation\n",
    "    * labour market statistics (e.g. unemployment and wages)\n",
    "    * any other economic indicators that may be relevant or interesting.\n",
    "<br>   \n",
    "<br>\n",
    "4. Do these speeches have any predictive power to assist in predicting market behaviour?\n",
    "<br>\n",
    "<br>\n",
    "5.  Are there other insights or findings from the analysis that may be of interest to the organisation?\n",
    "<br>\n",
    "<br>\n",
    "6.  What are the potential reasons for any of the correlations discovered above? How have you drawn these conclusions?\n"
   ]
  },
  {
   "cell_type": "markdown",
   "metadata": {},
   "source": [
    "## 2. Goals\n",
    "\n",
    "\n",
    "**1. To submit a 'Project Scope and Plan' by 18th March:**\n",
    "* A 1,000-word overview and project plan covering project roles, roadmap, objectives, communications plans, work agreements, as well as a refined problem statement and draft project scope\n",
    "<br>\n",
    "<br>\n",
    "\n",
    "**2. To submit an 'Initial Recommendation Pitch' by 15th April:**\n",
    "\n",
    "* Presentation deck (pdf) covering background/context, summary of analysis and visualisation approach, data-informed recommendations and conclusion\n",
    "* Presentation recording (5-10 mins) (MP4)\n",
    "<br>\n",
    "<br>\n",
    "\n",
    "**3. To submit a 'Final Report and Presentation' by 22nd April:**\n",
    "\n",
    "* Pdf Report (1,500 words (+/- 10%) describing the problem, approach, insights identified; recommendations; all aspects of presentation\n",
    "* Code (file or link), submitted as private GitHub repo, Jupyter Notebook or RMarkdown (must be reproducible) \n",
    "* Presentation deck (pdf): a summary of the process followed by the group, visualised data story justifiying recommendations\n",
    "* Live presentation (10-15 mins) (date TBC)\n",
    "<br>\n",
    "<br>\n",
    "\n",
    "**4. To submit an 'Individual Reflection' by 22nd April:** \n",
    "\n",
    "* Pdf document (500 words, +/- 10%) covering reflections on how effectively the group worked together, what challenging situations we encountered and how we responded to them, what contributions we made as individuals and what was the most useful feedback we received that we can use for group projects moving forward"
   ]
  },
  {
   "cell_type": "markdown",
   "metadata": {
    "slideshow": {
     "slide_type": "slide"
    }
   },
   "source": [
    "## 3. Data Collection & Exploration \n"
   ]
  },
  {
   "cell_type": "markdown",
   "metadata": {
    "slideshow": {
     "slide_type": "slide"
    }
   },
   "source": [
    "### 3.1 Getting the Data\n",
    "\n",
    "The following data was provided as part of the project briefing: \n",
    "\n",
    "#### Core Data Sets\n",
    "\n",
    "* \"all_speeches.csv\": this is a [publically-available Kaggle dataset](https://www.kaggle.com/datasets/davidgauthier/central-bank-speeches/data) comprised of a corpus of speeches from senior central bankers of various influential central banks. This corpus covers the period from 1997 until 2022. \n",
    "<br>\n",
    "<br>\n",
    "* \"LSE_DA_BoE_Employer_project_Sentiment-labelled_wordlist.xlsx\": a list of words labelled with sentiment\n",
    "\n",
    "\n",
    "#### Additional Bank of England Data\n",
    "\n",
    "* \"mpcvoting.xlsx\": a record of voting decisions by the Bank of England in relation to Bank Rate (6th Jun 1997-1st Feb 2024), Stock of Government Bond Purchases (4th Aug 2016-21st Sep 2023), Stock of Corporate Bond Purchases (4th Aug 2016-3rd Feb 2022) and Asset Purchase Decisions (5th Mar 2009-4th Aug 2016).   \n",
    "<br>\n",
    "<br>\n",
    "* Links were also provided to publicly-available Bank of England reports: the ['Monetary Policy Reports'](https://www.bankofengland.co.uk/monetary-policy-report/monetary-policy-report)  and ['Financial Stability Reports'](https://www.bankofengland.co.uk/financial-stability-report/financial-stability-reports)\n",
    "\n",
    "\n",
    "#### Additional Office for National Statistics (OfS) Data\n",
    "\n",
    "* Links to publicly-available data-sets related to [GDP Growth](https://www.ons.gov.uk/economy/grossdomesticproductgdp), [Inflation and Price Indices](https://www.ons.gov.uk/economy/inflationandpriceindices) and [Labour Market Statistics](https://www.ons.gov.uk/employmentandlabourmarket/peopleinwork/employmentandemployeetypes/bulletins/uklabourmarket/previousReleases). \n",
    "\n",
    "<br>\n",
    "The project team were encouraged to explore additional sources if relevant and helpful to the analysis.\n",
    "<br>\n",
    "<br>"
   ]
  },
  {
   "cell_type": "markdown",
   "metadata": {
    "slideshow": {
     "slide_type": "slide"
    }
   },
   "source": [
    "### 3.2 Exploring the Data\n",
    "\n",
    "We can read in the data; and at the same time check whether the data needs cleaning:"
   ]
  },
  {
   "cell_type": "code",
   "execution_count": 1,
   "metadata": {
    "slideshow": {
     "slide_type": "slide"
    }
   },
   "outputs": [
    {
     "name": "stderr",
     "output_type": "stream",
     "text": [
      "[nltk_data] Downloading package punkt to\n",
      "[nltk_data]     C:\\Users\\Owner\\AppData\\Roaming\\nltk_data...\n",
      "[nltk_data]   Package punkt is already up-to-date!\n",
      "[nltk_data] Downloading package stopwords to\n",
      "[nltk_data]     C:\\Users\\Owner\\AppData\\Roaming\\nltk_data...\n",
      "[nltk_data]   Package stopwords is already up-to-date!\n",
      "[nltk_data] Downloading package words to\n",
      "[nltk_data]     C:\\Users\\Owner\\AppData\\Roaming\\nltk_data...\n",
      "[nltk_data]   Package words is already up-to-date!\n",
      "[nltk_data] Downloading package omw-1.4 to\n",
      "[nltk_data]     C:\\Users\\Owner\\AppData\\Roaming\\nltk_data...\n",
      "[nltk_data]   Package omw-1.4 is already up-to-date!\n"
     ]
    }
   ],
   "source": [
    "# Importing libraries that we will use\n",
    "\n",
    "import pandas as pd\n",
    "import numpy as np\n",
    "import os\n",
    "import matplotlib.pyplot as plt\n",
    "from datetime import datetime\n",
    "\n",
    "import nltk\n",
    "nltk.download('punkt')\n",
    "nltk.download('stopwords')\n",
    "nltk.download('words')\n",
    "nltk.download('omw-1.4')\n",
    "from nltk.corpus import stopwords\n",
    "from nltk.corpus import words\n",
    "from nltk.tokenize import word_tokenize\n",
    "from nltk.probability import FreqDist\n",
    "from vaderSentiment.vaderSentiment import SentimentIntensityAnalyzer\n",
    "from textblob import TextBlob\n",
    "stop_words = set(stopwords.words('english'))\n",
    "\n",
    "import warnings\n",
    "warnings.filterwarnings('ignore')"
   ]
  },
  {
   "cell_type": "code",
   "execution_count": 2,
   "metadata": {
    "slideshow": {
     "slide_type": "slide"
    }
   },
   "outputs": [],
   "source": [
    "speeches= pd.read_csv('all_speeches.csv')"
   ]
  },
  {
   "cell_type": "markdown",
   "metadata": {},
   "source": [
    "First, let's take a look at the first few rows of the DataFrame:"
   ]
  },
  {
   "cell_type": "code",
   "execution_count": 3,
   "metadata": {
    "scrolled": true
   },
   "outputs": [
    {
     "data": {
      "text/html": [
       "<div>\n",
       "<style scoped>\n",
       "    .dataframe tbody tr th:only-of-type {\n",
       "        vertical-align: middle;\n",
       "    }\n",
       "\n",
       "    .dataframe tbody tr th {\n",
       "        vertical-align: top;\n",
       "    }\n",
       "\n",
       "    .dataframe thead th {\n",
       "        text-align: right;\n",
       "    }\n",
       "</style>\n",
       "<table border=\"1\" class=\"dataframe\">\n",
       "  <thead>\n",
       "    <tr style=\"text-align: right;\">\n",
       "      <th></th>\n",
       "      <th>reference</th>\n",
       "      <th>country</th>\n",
       "      <th>date</th>\n",
       "      <th>title</th>\n",
       "      <th>author</th>\n",
       "      <th>is_gov</th>\n",
       "      <th>text</th>\n",
       "    </tr>\n",
       "  </thead>\n",
       "  <tbody>\n",
       "    <tr>\n",
       "      <th>0</th>\n",
       "      <td>r901128a_BOA</td>\n",
       "      <td>australia</td>\n",
       "      <td>1990-11-28</td>\n",
       "      <td>A Proper Role for Monetary Policy</td>\n",
       "      <td>fraser</td>\n",
       "      <td>0</td>\n",
       "      <td>They would no doubt argue that to have two obj...</td>\n",
       "    </tr>\n",
       "    <tr>\n",
       "      <th>1</th>\n",
       "      <td>r911003a_BOA</td>\n",
       "      <td>australia</td>\n",
       "      <td>1991-10-03</td>\n",
       "      <td></td>\n",
       "      <td>fraser</td>\n",
       "      <td>0</td>\n",
       "      <td>Today I wish to talk about real interest rates...</td>\n",
       "    </tr>\n",
       "    <tr>\n",
       "      <th>2</th>\n",
       "      <td>r920314a_BOA</td>\n",
       "      <td>australia</td>\n",
       "      <td>1992-03-14</td>\n",
       "      <td></td>\n",
       "      <td>fraser</td>\n",
       "      <td>0</td>\n",
       "      <td>I welcome this opportunity to talk about prosp...</td>\n",
       "    </tr>\n",
       "    <tr>\n",
       "      <th>3</th>\n",
       "      <td>r920529a_BOA</td>\n",
       "      <td>australia</td>\n",
       "      <td>1992-05-29</td>\n",
       "      <td></td>\n",
       "      <td>fraser</td>\n",
       "      <td>0</td>\n",
       "      <td>It is a pleasure to have this opportunity to a...</td>\n",
       "    </tr>\n",
       "    <tr>\n",
       "      <th>4</th>\n",
       "      <td>r920817a_BOA</td>\n",
       "      <td>australia</td>\n",
       "      <td>1992-08-17</td>\n",
       "      <td></td>\n",
       "      <td>fraser</td>\n",
       "      <td>0</td>\n",
       "      <td>As a long-time fan of Don Sanders, I am deligh...</td>\n",
       "    </tr>\n",
       "  </tbody>\n",
       "</table>\n",
       "</div>"
      ],
      "text/plain": [
       "      reference    country        date                               title  \\\n",
       "0  r901128a_BOA  australia  1990-11-28   A Proper Role for Monetary Policy   \n",
       "1  r911003a_BOA  australia  1991-10-03                                       \n",
       "2  r920314a_BOA  australia  1992-03-14                                       \n",
       "3  r920529a_BOA  australia  1992-05-29                                       \n",
       "4  r920817a_BOA  australia  1992-08-17                                       \n",
       "\n",
       "   author  is_gov                                               text  \n",
       "0  fraser       0  They would no doubt argue that to have two obj...  \n",
       "1  fraser       0  Today I wish to talk about real interest rates...  \n",
       "2  fraser       0  I welcome this opportunity to talk about prosp...  \n",
       "3  fraser       0  It is a pleasure to have this opportunity to a...  \n",
       "4  fraser       0  As a long-time fan of Don Sanders, I am deligh...  "
      ]
     },
     "execution_count": 3,
     "metadata": {},
     "output_type": "execute_result"
    }
   ],
   "source": [
    "# taking a look at the first few rows of the dataframe:\n",
    "\n",
    "speeches.head()"
   ]
  },
  {
   "cell_type": "code",
   "execution_count": 4,
   "metadata": {},
   "outputs": [
    {
     "data": {
      "text/html": [
       "<style>\n",
       "table {float:left}\n",
       "</style>\n"
      ],
      "text/plain": [
       "<IPython.core.display.HTML object>"
      ]
     },
     "metadata": {},
     "output_type": "display_data"
    }
   ],
   "source": [
    "%%html\n",
    "<style>\n",
    "table {float:left}\n",
    "</style>"
   ]
  },
  {
   "cell_type": "markdown",
   "metadata": {},
   "source": [
    "The Kaggle metadata does nor specify what is contained in each column, but we can infer from the names that the columns contain the following information (a question on Kaggle about the dataset confirmed that in the `is_gov` column a '1' means the speech was by someone who is or was a governor, a '0' indicates otherwise):\n",
    "\n",
    "\n",
    "| **Column**             | **Description**                                                                                                                                |\n",
    "|:--- |:--- |\n",
    "| reference                 | Speech reference number  |\n",
    "| country                   | Country where the speech was made                                                                                                                 |\n",
    "| date     | The date the speech was made                                                                                   |\n",
    "| title | The title of the speech |\n",
    "| author         | The author/speaker      |\n",
    "| is_gov             | A '1' indicates that the speaker is or was a governor, a '0' indicates otherwise                                                                                            |\n",
    "| text             | The text of the speech                                                                                                               |"
   ]
  },
  {
   "cell_type": "markdown",
   "metadata": {},
   "source": [
    "Next, let's run speeches.info() to have a look at the number of values in each column, whether there are any null values and to see if the data types are what we would expect:"
   ]
  },
  {
   "cell_type": "code",
   "execution_count": 5,
   "metadata": {
    "scrolled": true
   },
   "outputs": [
    {
     "name": "stdout",
     "output_type": "stream",
     "text": [
      "<class 'pandas.core.frame.DataFrame'>\n",
      "RangeIndex: 7721 entries, 0 to 7720\n",
      "Data columns (total 7 columns):\n",
      " #   Column     Non-Null Count  Dtype \n",
      "---  ------     --------------  ----- \n",
      " 0   reference  7721 non-null   object\n",
      " 1   country    7721 non-null   object\n",
      " 2   date       7721 non-null   object\n",
      " 3   title      7721 non-null   object\n",
      " 4   author     7721 non-null   object\n",
      " 5   is_gov     7721 non-null   int64 \n",
      " 6   text       7721 non-null   object\n",
      "dtypes: int64(1), object(6)\n",
      "memory usage: 422.4+ KB\n"
     ]
    }
   ],
   "source": [
    "speeches.info()"
   ]
  },
  {
   "cell_type": "markdown",
   "metadata": {},
   "source": [
    "We note that there are no null values, so no gaps to fill.  \n",
    "\n",
    "The only data type that is potentially problematic is the 'date' column, which is currently of object type. Let's convert that to a date_time data type:"
   ]
  },
  {
   "cell_type": "code",
   "execution_count": 6,
   "metadata": {},
   "outputs": [],
   "source": [
    "speeches['date']=pd.to_datetime(speeches['date'],infer_datetime_format=True)"
   ]
  },
  {
   "cell_type": "code",
   "execution_count": 7,
   "metadata": {
    "scrolled": true
   },
   "outputs": [
    {
     "name": "stdout",
     "output_type": "stream",
     "text": [
      "<class 'pandas.core.frame.DataFrame'>\n",
      "RangeIndex: 7721 entries, 0 to 7720\n",
      "Data columns (total 7 columns):\n",
      " #   Column     Non-Null Count  Dtype         \n",
      "---  ------     --------------  -----         \n",
      " 0   reference  7721 non-null   object        \n",
      " 1   country    7721 non-null   object        \n",
      " 2   date       7721 non-null   datetime64[ns]\n",
      " 3   title      7721 non-null   object        \n",
      " 4   author     7721 non-null   object        \n",
      " 5   is_gov     7721 non-null   int64         \n",
      " 6   text       7721 non-null   object        \n",
      "dtypes: datetime64[ns](1), int64(1), object(5)\n",
      "memory usage: 422.4+ KB\n"
     ]
    }
   ],
   "source": [
    "#checking this is now a datetime object:\n",
    "speeches.info()"
   ]
  },
  {
   "cell_type": "code",
   "execution_count": 8,
   "metadata": {},
   "outputs": [
    {
     "data": {
      "text/plain": [
       "Timestamp('1900-01-01 00:00:00')"
      ]
     },
     "metadata": {},
     "output_type": "display_data"
    },
    {
     "data": {
      "text/plain": [
       "Timestamp('2022-11-10 00:00:00')"
      ]
     },
     "metadata": {},
     "output_type": "display_data"
    }
   ],
   "source": [
    "#Let's check that the date ranges are what we expect:\n",
    "\n",
    "display(speeches.date.min())\n",
    "display(speeches.date.max())"
   ]
  },
  {
   "cell_type": "markdown",
   "metadata": {},
   "source": [
    "There's an issue here: the minimum date is from the year 1900, which is outside the date range for this dataset. Let's have a look at any rows that have this date:"
   ]
  },
  {
   "cell_type": "code",
   "execution_count": 9,
   "metadata": {},
   "outputs": [
    {
     "data": {
      "text/html": [
       "<div>\n",
       "<style scoped>\n",
       "    .dataframe tbody tr th:only-of-type {\n",
       "        vertical-align: middle;\n",
       "    }\n",
       "\n",
       "    .dataframe tbody tr th {\n",
       "        vertical-align: top;\n",
       "    }\n",
       "\n",
       "    .dataframe thead th {\n",
       "        text-align: right;\n",
       "    }\n",
       "</style>\n",
       "<table border=\"1\" class=\"dataframe\">\n",
       "  <thead>\n",
       "    <tr style=\"text-align: right;\">\n",
       "      <th></th>\n",
       "      <th>reference</th>\n",
       "      <th>country</th>\n",
       "      <th>date</th>\n",
       "      <th>title</th>\n",
       "      <th>author</th>\n",
       "      <th>is_gov</th>\n",
       "      <th>text</th>\n",
       "    </tr>\n",
       "  </thead>\n",
       "  <tbody>\n",
       "    <tr>\n",
       "      <th>4010</th>\n",
       "      <td>r000101a_SRB</td>\n",
       "      <td>sweden</td>\n",
       "      <td>1900-01-01</td>\n",
       "      <td>Swedish economy in transition</td>\n",
       "      <td>backstrom</td>\n",
       "      <td>1</td>\n",
       "      <td>Thank you for inviting me to talk with you thi...</td>\n",
       "    </tr>\n",
       "  </tbody>\n",
       "</table>\n",
       "</div>"
      ],
      "text/plain": [
       "         reference country       date                          title  \\\n",
       "4010  r000101a_SRB  sweden 1900-01-01  Swedish economy in transition   \n",
       "\n",
       "         author  is_gov                                               text  \n",
       "4010  backstrom       1  Thank you for inviting me to talk with you thi...  "
      ]
     },
     "execution_count": 9,
     "metadata": {},
     "output_type": "execute_result"
    }
   ],
   "source": [
    "speeches.loc[speeches['date'] == '1900-01-01']"
   ]
  },
  {
   "cell_type": "markdown",
   "metadata": {},
   "source": [
    "A quick web search for this speech (see [here](chrome-extension://efaidnbmnnnibpcajpcglclefindmkaj/https://www.bis.org/review/r001010a.pdf)) suggests this speech was made on 2nd Oct 2000, so we can change the date:"
   ]
  },
  {
   "cell_type": "code",
   "execution_count": 10,
   "metadata": {},
   "outputs": [],
   "source": [
    "speeches['date'].replace('1900-01-01', '2000-10-02', inplace=True)"
   ]
  },
  {
   "cell_type": "code",
   "execution_count": 11,
   "metadata": {},
   "outputs": [
    {
     "data": {
      "text/plain": [
       "Timestamp('1990-11-28 00:00:00')"
      ]
     },
     "metadata": {},
     "output_type": "display_data"
    },
    {
     "data": {
      "text/plain": [
       "Timestamp('2022-11-10 00:00:00')"
      ]
     },
     "metadata": {},
     "output_type": "display_data"
    }
   ],
   "source": [
    "#Checking min and max dates again:\n",
    "\n",
    "display(speeches.date.min())\n",
    "display(speeches.date.max())"
   ]
  },
  {
   "cell_type": "markdown",
   "metadata": {},
   "source": [
    "That's better- the min date is now in line with what we would expect."
   ]
  },
  {
   "cell_type": "markdown",
   "metadata": {},
   "source": [
    "Next, the reference column: let's see if we have a unique reference number of each speech:"
   ]
  },
  {
   "cell_type": "code",
   "execution_count": 12,
   "metadata": {},
   "outputs": [
    {
     "data": {
      "text/plain": [
       "7721"
      ]
     },
     "execution_count": 12,
     "metadata": {},
     "output_type": "execute_result"
    }
   ],
   "source": [
    "speeches['reference'].nunique()"
   ]
  },
  {
   "cell_type": "markdown",
   "metadata": {},
   "source": [
    "It seems that we do. This may be a redundant column, but let's retain it for now. "
   ]
  },
  {
   "cell_type": "markdown",
   "metadata": {},
   "source": [
    "Next, the country column: let's check that the country names are what we would expect:"
   ]
  },
  {
   "cell_type": "code",
   "execution_count": 13,
   "metadata": {},
   "outputs": [
    {
     "data": {
      "text/plain": [
       "euro area         2351\n",
       "united states     1551\n",
       "united kingdom    1209\n",
       "japan              755\n",
       "canada             620\n",
       "sweden             600\n",
       "switzerland        351\n",
       "australia          284\n",
       "Name: country, dtype: int64"
      ]
     },
     "execution_count": 13,
     "metadata": {},
     "output_type": "execute_result"
    }
   ],
   "source": [
    "speeches['country'].value_counts()"
   ]
  },
  {
   "cell_type": "markdown",
   "metadata": {},
   "source": [
    "Let's remove the whitespace from some of the country names and also capitalise the proper names:"
   ]
  },
  {
   "cell_type": "code",
   "execution_count": 14,
   "metadata": {},
   "outputs": [],
   "source": [
    "speeches['country'].replace('euro area', 'Eurozone', inplace=True)\n",
    "speeches['country'].replace('united states', 'US', inplace=True)\n",
    "speeches['country'].replace('united kingdom', 'UK', inplace=True)\n",
    "speeches['country'].replace('japan', 'Japan', inplace=True)\n",
    "speeches['country'].replace('canada', 'Canada', inplace=True)\n",
    "speeches['country'].replace('sweden', 'Sweden', inplace=True)\n",
    "speeches['country'].replace('switzerland', 'Switzerland', inplace=True)\n",
    "speeches['country'].replace('australia', 'Australia', inplace=True)"
   ]
  },
  {
   "cell_type": "code",
   "execution_count": 15,
   "metadata": {
    "scrolled": true
   },
   "outputs": [
    {
     "data": {
      "text/plain": [
       "Eurozone       2351\n",
       "US             1551\n",
       "UK             1209\n",
       "Japan           755\n",
       "Canada          620\n",
       "Sweden          600\n",
       "Switzerland     351\n",
       "Australia       284\n",
       "Name: country, dtype: int64"
      ]
     },
     "execution_count": 15,
     "metadata": {},
     "output_type": "execute_result"
    }
   ],
   "source": [
    "speeches['country'].value_counts()"
   ]
  },
  {
   "cell_type": "markdown",
   "metadata": {},
   "source": [
    "Everthing seems to be in order in this column.\n",
    "\n",
    "Next, let's take a look at the 'title' column:"
   ]
  },
  {
   "cell_type": "code",
   "execution_count": 16,
   "metadata": {
    "scrolled": true
   },
   "outputs": [
    {
     "data": {
      "text/plain": [
       "NO_INFO                                                                                                     237\n",
       "                                                                                                            176\n",
       "Japan's Economy and Monetary Policy                                                                          61\n",
       "Economic Activity, Prices, and Monetary Policy in Japan                                                      54\n",
       "Introductory remarks, news conference                                                                        45\n",
       "                                                                                                           ... \n",
       "Delivering a symmetric mandate with asymmetric tools: monetary policy in a context of low interest rates      1\n",
       "European banking supervision – much achieved, but still much to do                                            1\n",
       "The outlook for the Global Economy                                                                            1\n",
       "Government bond markets in a changing environment                                                             1\n",
       "The U.S. Dollar and Central Bank Digital Currencies                                                           1\n",
       "Name: title, Length: 6218, dtype: int64"
      ]
     },
     "execution_count": 16,
     "metadata": {},
     "output_type": "execute_result"
    }
   ],
   "source": [
    "speeches['title'].value_counts()"
   ]
  },
  {
   "cell_type": "markdown",
   "metadata": {},
   "source": [
    "Some of the rows have titles, some are blank (in fact, after checking the csv file, each of these seemingly blank rows contain 8 spaces) and some are marked as 'NO_INFO'. Let's label all blank and 'NO_INFO' roles as 'No title recorded':"
   ]
  },
  {
   "cell_type": "code",
   "execution_count": 17,
   "metadata": {},
   "outputs": [],
   "source": [
    "speeches['title'].replace('NO_INFO','No title recorded', inplace=True)"
   ]
  },
  {
   "cell_type": "code",
   "execution_count": 18,
   "metadata": {},
   "outputs": [],
   "source": [
    "speeches['title'].replace('        ','No title recorded', inplace=True)"
   ]
  },
  {
   "cell_type": "code",
   "execution_count": 19,
   "metadata": {
    "scrolled": false
   },
   "outputs": [
    {
     "data": {
      "text/plain": [
       "No title recorded                                                                                           413\n",
       "Japan's Economy and Monetary Policy                                                                          61\n",
       "Economic Activity, Prices, and Monetary Policy in Japan                                                      54\n",
       "Introductory remarks, news conference                                                                        45\n",
       "Opening Statement before the House of Commons Standing Committee on Finance                                  42\n",
       "                                                                                                           ... \n",
       "Delivering a symmetric mandate with asymmetric tools: monetary policy in a context of low interest rates      1\n",
       "European banking supervision – much achieved, but still much to do                                            1\n",
       "The outlook for the Global Economy                                                                            1\n",
       "Government bond markets in a changing environment                                                             1\n",
       "The U.S. Dollar and Central Bank Digital Currencies                                                           1\n",
       "Name: title, Length: 6217, dtype: int64"
      ]
     },
     "execution_count": 19,
     "metadata": {},
     "output_type": "execute_result"
    }
   ],
   "source": [
    "speeches['title'].value_counts()"
   ]
  },
  {
   "cell_type": "markdown",
   "metadata": {},
   "source": [
    "Let's also check the author column:"
   ]
  },
  {
   "cell_type": "code",
   "execution_count": 20,
   "metadata": {
    "scrolled": true
   },
   "outputs": [
    {
     "data": {
      "text/plain": [
       "no_info       342\n",
       "trichet       272\n",
       "bernanke      209\n",
       "coeure        174\n",
       "carney        167\n",
       "             ... \n",
       "young           1\n",
       "aires           1\n",
       "jackson         1\n",
       "bratislava      1\n",
       "cook            1\n",
       "Name: author, Length: 325, dtype: int64"
      ]
     },
     "execution_count": 20,
     "metadata": {},
     "output_type": "execute_result"
    }
   ],
   "source": [
    "speeches['author'].value_counts()"
   ]
  },
  {
   "cell_type": "markdown",
   "metadata": {},
   "source": [
    "This seems to be in order, so let's check is_gov:"
   ]
  },
  {
   "cell_type": "code",
   "execution_count": 21,
   "metadata": {
    "scrolled": true
   },
   "outputs": [
    {
     "data": {
      "text/plain": [
       "0    5040\n",
       "1    2681\n",
       "Name: is_gov, dtype: int64"
      ]
     },
     "execution_count": 21,
     "metadata": {},
     "output_type": "execute_result"
    }
   ],
   "source": [
    "speeches['is_gov'].value_counts()"
   ]
  },
  {
   "cell_type": "markdown",
   "metadata": {},
   "source": [
    "As expected, the values are all either a 0 or a 1. We may decide to replace these with labels, but for now let's keep them as they are. "
   ]
  },
  {
   "cell_type": "markdown",
   "metadata": {},
   "source": [
    "Finally, we turn to our text column: we should have 7721 unique speeches:"
   ]
  },
  {
   "cell_type": "code",
   "execution_count": 22,
   "metadata": {},
   "outputs": [
    {
     "data": {
      "text/plain": [
       "7692"
      ]
     },
     "execution_count": 22,
     "metadata": {},
     "output_type": "execute_result"
    }
   ],
   "source": [
    "speeches['text'].nunique()"
   ]
  },
  {
   "cell_type": "markdown",
   "metadata": {},
   "source": [
    "This is not as many as expected, so it seem there are some duplicates. Let's check this:"
   ]
  },
  {
   "cell_type": "code",
   "execution_count": 23,
   "metadata": {},
   "outputs": [
    {
     "data": {
      "text/plain": [
       "False    7692\n",
       "True       29\n",
       "Name: text, dtype: int64"
      ]
     },
     "execution_count": 23,
     "metadata": {},
     "output_type": "execute_result"
    }
   ],
   "source": [
    "duplicate_values = speeches['text'].duplicated()\n",
    "duplicate_values.value_counts()"
   ]
  },
  {
   "cell_type": "markdown",
   "metadata": {},
   "source": [
    "There are 29 duplicated speeches, let's look at them:"
   ]
  },
  {
   "cell_type": "code",
   "execution_count": 24,
   "metadata": {},
   "outputs": [
    {
     "data": {
      "text/html": [
       "<div>\n",
       "<style scoped>\n",
       "    .dataframe tbody tr th:only-of-type {\n",
       "        vertical-align: middle;\n",
       "    }\n",
       "\n",
       "    .dataframe tbody tr th {\n",
       "        vertical-align: top;\n",
       "    }\n",
       "\n",
       "    .dataframe thead th {\n",
       "        text-align: right;\n",
       "    }\n",
       "</style>\n",
       "<table border=\"1\" class=\"dataframe\">\n",
       "  <thead>\n",
       "    <tr style=\"text-align: right;\">\n",
       "      <th></th>\n",
       "      <th>reference</th>\n",
       "      <th>country</th>\n",
       "      <th>date</th>\n",
       "      <th>title</th>\n",
       "      <th>author</th>\n",
       "      <th>is_gov</th>\n",
       "      <th>text</th>\n",
       "    </tr>\n",
       "  </thead>\n",
       "  <tbody>\n",
       "    <tr>\n",
       "      <th>564</th>\n",
       "      <td>r101026a_BOC</td>\n",
       "      <td>Canada</td>\n",
       "      <td>2010-10-26</td>\n",
       "      <td>Opening Statement before the House of Commons ...</td>\n",
       "      <td>carney</td>\n",
       "      <td>1</td>\n",
       "      <td>Governor of the Bank of Canada Good afternoon,...</td>\n",
       "    </tr>\n",
       "    <tr>\n",
       "      <th>565</th>\n",
       "      <td>r101027a_BOC</td>\n",
       "      <td>Canada</td>\n",
       "      <td>2010-10-27</td>\n",
       "      <td>Opening Statement before the Standing Senate C...</td>\n",
       "      <td>carney</td>\n",
       "      <td>1</td>\n",
       "      <td>Governor of the Bank of Canada Good afternoon,...</td>\n",
       "    </tr>\n",
       "    <tr>\n",
       "      <th>610</th>\n",
       "      <td>r120424a_BOC</td>\n",
       "      <td>Canada</td>\n",
       "      <td>2012-04-24</td>\n",
       "      <td>Opening Statement before the House of Commons ...</td>\n",
       "      <td>carney</td>\n",
       "      <td>1</td>\n",
       "      <td>Governor of the Bank of Canada Good afternoon....</td>\n",
       "    </tr>\n",
       "    <tr>\n",
       "      <th>611</th>\n",
       "      <td>r120425a_BOC</td>\n",
       "      <td>Canada</td>\n",
       "      <td>2012-04-25</td>\n",
       "      <td>Opening Statement before the Senate Standing C...</td>\n",
       "      <td>carney</td>\n",
       "      <td>1</td>\n",
       "      <td>Governor of the Bank of Canada Good afternoon....</td>\n",
       "    </tr>\n",
       "    <tr>\n",
       "      <th>624</th>\n",
       "      <td>r121030a_BOC</td>\n",
       "      <td>Canada</td>\n",
       "      <td>2012-10-30</td>\n",
       "      <td>Opening Statement before the House of Commons ...</td>\n",
       "      <td>carney</td>\n",
       "      <td>1</td>\n",
       "      <td>Governor of the Bank of Canada Good afternoon....</td>\n",
       "    </tr>\n",
       "    <tr>\n",
       "      <th>625</th>\n",
       "      <td>r121031a_BOC</td>\n",
       "      <td>Canada</td>\n",
       "      <td>2012-10-31</td>\n",
       "      <td>Opening Statement before the Standing Senate C...</td>\n",
       "      <td>carney</td>\n",
       "      <td>1</td>\n",
       "      <td>Governor of the Bank of Canada Good afternoon....</td>\n",
       "    </tr>\n",
       "    <tr>\n",
       "      <th>668</th>\n",
       "      <td>r140429a_BOC</td>\n",
       "      <td>Canada</td>\n",
       "      <td>2014-04-29</td>\n",
       "      <td>Opening Statement before the House of Commons ...</td>\n",
       "      <td>poloz</td>\n",
       "      <td>1</td>\n",
       "      <td>Governor of the Bank of Canada Thank you for t...</td>\n",
       "    </tr>\n",
       "    <tr>\n",
       "      <th>669</th>\n",
       "      <td>r140430a_BOC</td>\n",
       "      <td>Canada</td>\n",
       "      <td>2014-04-30</td>\n",
       "      <td>Opening Statement before the Senate Standing C...</td>\n",
       "      <td>poloz</td>\n",
       "      <td>1</td>\n",
       "      <td>Governor of the Bank of Canada Thank you for t...</td>\n",
       "    </tr>\n",
       "    <tr>\n",
       "      <th>1182</th>\n",
       "      <td>r020121a_ECB</td>\n",
       "      <td>Eurozone</td>\n",
       "      <td>2002-01-21</td>\n",
       "      <td>Securities and banking: bridges and walls</td>\n",
       "      <td>no_info</td>\n",
       "      <td>0</td>\n",
       "      <td>I once again find myself speaking at the Londo...</td>\n",
       "    </tr>\n",
       "    <tr>\n",
       "      <th>1186</th>\n",
       "      <td>r020221a_ECB</td>\n",
       "      <td>Eurozone</td>\n",
       "      <td>2002-02-21</td>\n",
       "      <td>Securities and banking: bridges and walls</td>\n",
       "      <td>schioppa</td>\n",
       "      <td>0</td>\n",
       "      <td>I once again find myself speaking at the Londo...</td>\n",
       "    </tr>\n",
       "  </tbody>\n",
       "</table>\n",
       "</div>"
      ],
      "text/plain": [
       "         reference   country       date  \\\n",
       "564   r101026a_BOC    Canada 2010-10-26   \n",
       "565   r101027a_BOC    Canada 2010-10-27   \n",
       "610   r120424a_BOC    Canada 2012-04-24   \n",
       "611   r120425a_BOC    Canada 2012-04-25   \n",
       "624   r121030a_BOC    Canada 2012-10-30   \n",
       "625   r121031a_BOC    Canada 2012-10-31   \n",
       "668   r140429a_BOC    Canada 2014-04-29   \n",
       "669   r140430a_BOC    Canada 2014-04-30   \n",
       "1182  r020121a_ECB  Eurozone 2002-01-21   \n",
       "1186  r020221a_ECB  Eurozone 2002-02-21   \n",
       "\n",
       "                                                  title    author  is_gov  \\\n",
       "564   Opening Statement before the House of Commons ...    carney       1   \n",
       "565   Opening Statement before the Standing Senate C...    carney       1   \n",
       "610   Opening Statement before the House of Commons ...    carney       1   \n",
       "611   Opening Statement before the Senate Standing C...    carney       1   \n",
       "624   Opening Statement before the House of Commons ...    carney       1   \n",
       "625   Opening Statement before the Standing Senate C...    carney       1   \n",
       "668   Opening Statement before the House of Commons ...     poloz       1   \n",
       "669   Opening Statement before the Senate Standing C...     poloz       1   \n",
       "1182          Securities and banking: bridges and walls   no_info       0   \n",
       "1186          Securities and banking: bridges and walls  schioppa       0   \n",
       "\n",
       "                                                   text  \n",
       "564   Governor of the Bank of Canada Good afternoon,...  \n",
       "565   Governor of the Bank of Canada Good afternoon,...  \n",
       "610   Governor of the Bank of Canada Good afternoon....  \n",
       "611   Governor of the Bank of Canada Good afternoon....  \n",
       "624   Governor of the Bank of Canada Good afternoon....  \n",
       "625   Governor of the Bank of Canada Good afternoon....  \n",
       "668   Governor of the Bank of Canada Thank you for t...  \n",
       "669   Governor of the Bank of Canada Thank you for t...  \n",
       "1182  I once again find myself speaking at the Londo...  \n",
       "1186  I once again find myself speaking at the Londo...  "
      ]
     },
     "execution_count": 24,
     "metadata": {},
     "output_type": "execute_result"
    }
   ],
   "source": [
    " speeches[speeches['text'].duplicated(keep=False)].head(10)"
   ]
  },
  {
   "cell_type": "markdown",
   "metadata": {},
   "source": [
    "We can see that while the speeches are duplicated, they took place on different dates: it stands to reason that a speech may have been delivered more than once, so we can proceed with the analysis without dropping any duplicates. "
   ]
  },
  {
   "cell_type": "markdown",
   "metadata": {},
   "source": [
    "Let's just double-check that we don't have any duplicated rows:"
   ]
  },
  {
   "cell_type": "code",
   "execution_count": 25,
   "metadata": {},
   "outputs": [
    {
     "data": {
      "text/plain": [
       "False    7721\n",
       "dtype: int64"
      ]
     },
     "execution_count": 25,
     "metadata": {},
     "output_type": "execute_result"
    }
   ],
   "source": [
    "# checking for duplicate rows\n",
    "speeches.duplicated().value_counts()"
   ]
  },
  {
   "cell_type": "markdown",
   "metadata": {
    "slideshow": {
     "slide_type": "slide"
    }
   },
   "source": [
    "# 4. Analysis: Has the sentiment of central bank speeches changed over time? If so, how has it changed?\n",
    "\n",
    "\n",
    "### 4.1 Sentiment Analysis: Vader and Textblob\n",
    "\n",
    "To answer this question, we need to begin by performing a sentiment analysis on the text data provided. \n",
    "\n",
    "Since the dataset is large and could therefore mean lengthy processing time for the sentiment analysis, for now let's subset the data and look at just speeches made in the UK:"
   ]
  },
  {
   "cell_type": "code",
   "execution_count": 26,
   "metadata": {},
   "outputs": [],
   "source": [
    "uk_speeches= speeches[speeches['country']=='UK'].reset_index(drop=True)"
   ]
  },
  {
   "cell_type": "code",
   "execution_count": 27,
   "metadata": {
    "scrolled": false
   },
   "outputs": [
    {
     "data": {
      "text/html": [
       "<div>\n",
       "<style scoped>\n",
       "    .dataframe tbody tr th:only-of-type {\n",
       "        vertical-align: middle;\n",
       "    }\n",
       "\n",
       "    .dataframe tbody tr th {\n",
       "        vertical-align: top;\n",
       "    }\n",
       "\n",
       "    .dataframe thead th {\n",
       "        text-align: right;\n",
       "    }\n",
       "</style>\n",
       "<table border=\"1\" class=\"dataframe\">\n",
       "  <thead>\n",
       "    <tr style=\"text-align: right;\">\n",
       "      <th></th>\n",
       "      <th>reference</th>\n",
       "      <th>country</th>\n",
       "      <th>date</th>\n",
       "      <th>title</th>\n",
       "      <th>author</th>\n",
       "      <th>is_gov</th>\n",
       "      <th>text</th>\n",
       "    </tr>\n",
       "  </thead>\n",
       "  <tbody>\n",
       "    <tr>\n",
       "      <th>0</th>\n",
       "      <td>r980915a_BOE</td>\n",
       "      <td>UK</td>\n",
       "      <td>1998-09-15</td>\n",
       "      <td>Speech</td>\n",
       "      <td>george</td>\n",
       "      <td>0</td>\n",
       "      <td>Thank you, Chairman. I'm actually very pleased...</td>\n",
       "    </tr>\n",
       "    <tr>\n",
       "      <th>1</th>\n",
       "      <td>r981021b_BOE</td>\n",
       "      <td>UK</td>\n",
       "      <td>1998-10-21</td>\n",
       "      <td>Britain in Europe</td>\n",
       "      <td>george</td>\n",
       "      <td>0</td>\n",
       "      <td>It's a great pleasure to be here in the beauti...</td>\n",
       "    </tr>\n",
       "    <tr>\n",
       "      <th>2</th>\n",
       "      <td>r981021a_BOE</td>\n",
       "      <td>UK</td>\n",
       "      <td>1998-10-21</td>\n",
       "      <td>Impact of the recent turbulence in internation...</td>\n",
       "      <td>king</td>\n",
       "      <td>1</td>\n",
       "      <td>Few industries have suffered more from volatil...</td>\n",
       "    </tr>\n",
       "    <tr>\n",
       "      <th>3</th>\n",
       "      <td>r981101a_BOE</td>\n",
       "      <td>UK</td>\n",
       "      <td>1998-11-01</td>\n",
       "      <td>Economic policy, with and without forecasts</td>\n",
       "      <td>budd</td>\n",
       "      <td>0</td>\n",
       "      <td>My topic this evening is the use of forecasts ...</td>\n",
       "    </tr>\n",
       "    <tr>\n",
       "      <th>4</th>\n",
       "      <td>r981101b_BOE</td>\n",
       "      <td>UK</td>\n",
       "      <td>1998-11-01</td>\n",
       "      <td>Inflation targeting in practice: the UK experi...</td>\n",
       "      <td>vickers</td>\n",
       "      <td>0</td>\n",
       "      <td>Six years ago this week, sterling left the exc...</td>\n",
       "    </tr>\n",
       "  </tbody>\n",
       "</table>\n",
       "</div>"
      ],
      "text/plain": [
       "      reference country       date  \\\n",
       "0  r980915a_BOE      UK 1998-09-15   \n",
       "1  r981021b_BOE      UK 1998-10-21   \n",
       "2  r981021a_BOE      UK 1998-10-21   \n",
       "3  r981101a_BOE      UK 1998-11-01   \n",
       "4  r981101b_BOE      UK 1998-11-01   \n",
       "\n",
       "                                               title   author  is_gov  \\\n",
       "0                                             Speech   george       0   \n",
       "1                                  Britain in Europe   george       0   \n",
       "2  Impact of the recent turbulence in internation...     king       1   \n",
       "3        Economic policy, with and without forecasts     budd       0   \n",
       "4  Inflation targeting in practice: the UK experi...  vickers       0   \n",
       "\n",
       "                                                text  \n",
       "0  Thank you, Chairman. I'm actually very pleased...  \n",
       "1  It's a great pleasure to be here in the beauti...  \n",
       "2  Few industries have suffered more from volatil...  \n",
       "3  My topic this evening is the use of forecasts ...  \n",
       "4  Six years ago this week, sterling left the exc...  "
      ]
     },
     "execution_count": 27,
     "metadata": {},
     "output_type": "execute_result"
    }
   ],
   "source": [
    "uk_speeches.head()"
   ]
  },
  {
   "cell_type": "code",
   "execution_count": 28,
   "metadata": {},
   "outputs": [
    {
     "name": "stdout",
     "output_type": "stream",
     "text": [
      "<class 'pandas.core.frame.DataFrame'>\n",
      "RangeIndex: 1209 entries, 0 to 1208\n",
      "Data columns (total 7 columns):\n",
      " #   Column     Non-Null Count  Dtype         \n",
      "---  ------     --------------  -----         \n",
      " 0   reference  1209 non-null   object        \n",
      " 1   country    1209 non-null   object        \n",
      " 2   date       1209 non-null   datetime64[ns]\n",
      " 3   title      1209 non-null   object        \n",
      " 4   author     1209 non-null   object        \n",
      " 5   is_gov     1209 non-null   int64         \n",
      " 6   text       1209 non-null   object        \n",
      "dtypes: datetime64[ns](1), int64(1), object(5)\n",
      "memory usage: 66.2+ KB\n"
     ]
    }
   ],
   "source": [
    "uk_speeches.info()"
   ]
  },
  {
   "cell_type": "markdown",
   "metadata": {},
   "source": [
    "This UK-only dataset contains 1209 rows of data- still large enough for meaningful analysis."
   ]
  },
  {
   "cell_type": "markdown",
   "metadata": {},
   "source": [
    "Let's start preparing the text column for analysis by converting to lower case and removing all punctuation:"
   ]
  },
  {
   "cell_type": "code",
   "execution_count": 29,
   "metadata": {},
   "outputs": [
    {
     "data": {
      "text/html": [
       "<div>\n",
       "<style scoped>\n",
       "    .dataframe tbody tr th:only-of-type {\n",
       "        vertical-align: middle;\n",
       "    }\n",
       "\n",
       "    .dataframe tbody tr th {\n",
       "        vertical-align: top;\n",
       "    }\n",
       "\n",
       "    .dataframe thead th {\n",
       "        text-align: right;\n",
       "    }\n",
       "</style>\n",
       "<table border=\"1\" class=\"dataframe\">\n",
       "  <thead>\n",
       "    <tr style=\"text-align: right;\">\n",
       "      <th></th>\n",
       "      <th>reference</th>\n",
       "      <th>country</th>\n",
       "      <th>date</th>\n",
       "      <th>title</th>\n",
       "      <th>author</th>\n",
       "      <th>is_gov</th>\n",
       "      <th>text</th>\n",
       "    </tr>\n",
       "  </thead>\n",
       "  <tbody>\n",
       "    <tr>\n",
       "      <th>0</th>\n",
       "      <td>r980915a_BOE</td>\n",
       "      <td>UK</td>\n",
       "      <td>1998-09-15</td>\n",
       "      <td>Speech</td>\n",
       "      <td>george</td>\n",
       "      <td>0</td>\n",
       "      <td>thank you chairman im actually very pleased to...</td>\n",
       "    </tr>\n",
       "    <tr>\n",
       "      <th>1</th>\n",
       "      <td>r981021b_BOE</td>\n",
       "      <td>UK</td>\n",
       "      <td>1998-10-21</td>\n",
       "      <td>Britain in Europe</td>\n",
       "      <td>george</td>\n",
       "      <td>0</td>\n",
       "      <td>its a great pleasure to be here in the beautif...</td>\n",
       "    </tr>\n",
       "    <tr>\n",
       "      <th>2</th>\n",
       "      <td>r981021a_BOE</td>\n",
       "      <td>UK</td>\n",
       "      <td>1998-10-21</td>\n",
       "      <td>Impact of the recent turbulence in internation...</td>\n",
       "      <td>king</td>\n",
       "      <td>1</td>\n",
       "      <td>few industries have suffered more from volatil...</td>\n",
       "    </tr>\n",
       "    <tr>\n",
       "      <th>3</th>\n",
       "      <td>r981101a_BOE</td>\n",
       "      <td>UK</td>\n",
       "      <td>1998-11-01</td>\n",
       "      <td>Economic policy, with and without forecasts</td>\n",
       "      <td>budd</td>\n",
       "      <td>0</td>\n",
       "      <td>my topic this evening is the use of forecasts ...</td>\n",
       "    </tr>\n",
       "    <tr>\n",
       "      <th>4</th>\n",
       "      <td>r981101b_BOE</td>\n",
       "      <td>UK</td>\n",
       "      <td>1998-11-01</td>\n",
       "      <td>Inflation targeting in practice: the UK experi...</td>\n",
       "      <td>vickers</td>\n",
       "      <td>0</td>\n",
       "      <td>six years ago this week sterling left the exch...</td>\n",
       "    </tr>\n",
       "  </tbody>\n",
       "</table>\n",
       "</div>"
      ],
      "text/plain": [
       "      reference country       date  \\\n",
       "0  r980915a_BOE      UK 1998-09-15   \n",
       "1  r981021b_BOE      UK 1998-10-21   \n",
       "2  r981021a_BOE      UK 1998-10-21   \n",
       "3  r981101a_BOE      UK 1998-11-01   \n",
       "4  r981101b_BOE      UK 1998-11-01   \n",
       "\n",
       "                                               title   author  is_gov  \\\n",
       "0                                             Speech   george       0   \n",
       "1                                  Britain in Europe   george       0   \n",
       "2  Impact of the recent turbulence in internation...     king       1   \n",
       "3        Economic policy, with and without forecasts     budd       0   \n",
       "4  Inflation targeting in practice: the UK experi...  vickers       0   \n",
       "\n",
       "                                                text  \n",
       "0  thank you chairman im actually very pleased to...  \n",
       "1  its a great pleasure to be here in the beautif...  \n",
       "2  few industries have suffered more from volatil...  \n",
       "3  my topic this evening is the use of forecasts ...  \n",
       "4  six years ago this week sterling left the exch...  "
      ]
     },
     "execution_count": 29,
     "metadata": {},
     "output_type": "execute_result"
    }
   ],
   "source": [
    "# Demo: Convert to lower case and remove punctuation.\n",
    "uk_speeches['text'] = uk_speeches['text'].apply(lambda x: \" \".join(x.lower() for x in x.split()))\n",
    "uk_speeches['text'] = uk_speeches['text'].str.replace('[^\\w\\s]','',regex=True)\n",
    "uk_speeches.head()"
   ]
  },
  {
   "cell_type": "markdown",
   "metadata": {},
   "source": [
    "We can also add a column containing the number of characters in each piece of text, so we have insight into how long each one is:"
   ]
  },
  {
   "cell_type": "code",
   "execution_count": 30,
   "metadata": {},
   "outputs": [],
   "source": [
    "uk_speeches['len']=uk_speeches['text'].str.len()"
   ]
  },
  {
   "cell_type": "markdown",
   "metadata": {},
   "source": [
    "Now we can use the SentimentIntensityAnalyzer:\n",
    "* the 'neg', 'neu' and 'pos' columns indicate the degree to which the sentiment falls into these categories, from 0 to 1 (0 meaning the lowest amount of that sentiment detected, 1 meaning the highest amount)\n",
    "* the 'compound' score from -1 to +1 indicates the overall sentiment expressed: -1 means extremely negative overall sentiment, +1 means extremely positive."
   ]
  },
  {
   "cell_type": "code",
   "execution_count": 31,
   "metadata": {},
   "outputs": [
    {
     "name": "stdout",
     "output_type": "stream",
     "text": [
      "CPU times: total: 19min 30s\n",
      "Wall time: 23min 18s\n"
     ]
    },
    {
     "data": {
      "text/html": [
       "<div>\n",
       "<style scoped>\n",
       "    .dataframe tbody tr th:only-of-type {\n",
       "        vertical-align: middle;\n",
       "    }\n",
       "\n",
       "    .dataframe tbody tr th {\n",
       "        vertical-align: top;\n",
       "    }\n",
       "\n",
       "    .dataframe thead th {\n",
       "        text-align: right;\n",
       "    }\n",
       "</style>\n",
       "<table border=\"1\" class=\"dataframe\">\n",
       "  <thead>\n",
       "    <tr style=\"text-align: right;\">\n",
       "      <th></th>\n",
       "      <th>reference</th>\n",
       "      <th>country</th>\n",
       "      <th>date</th>\n",
       "      <th>title</th>\n",
       "      <th>author</th>\n",
       "      <th>is_gov</th>\n",
       "      <th>text</th>\n",
       "      <th>len</th>\n",
       "      <th>neg</th>\n",
       "      <th>neu</th>\n",
       "      <th>pos</th>\n",
       "      <th>compound</th>\n",
       "    </tr>\n",
       "  </thead>\n",
       "  <tbody>\n",
       "    <tr>\n",
       "      <th>0</th>\n",
       "      <td>r980915a_BOE</td>\n",
       "      <td>UK</td>\n",
       "      <td>1998-09-15</td>\n",
       "      <td>Speech</td>\n",
       "      <td>george</td>\n",
       "      <td>0</td>\n",
       "      <td>thank you chairman im actually very pleased to...</td>\n",
       "      <td>13409</td>\n",
       "      <td>0.084</td>\n",
       "      <td>0.820</td>\n",
       "      <td>0.095</td>\n",
       "      <td>0.9925</td>\n",
       "    </tr>\n",
       "    <tr>\n",
       "      <th>1</th>\n",
       "      <td>r981021b_BOE</td>\n",
       "      <td>UK</td>\n",
       "      <td>1998-10-21</td>\n",
       "      <td>Britain in Europe</td>\n",
       "      <td>george</td>\n",
       "      <td>0</td>\n",
       "      <td>its a great pleasure to be here in the beautif...</td>\n",
       "      <td>23792</td>\n",
       "      <td>0.068</td>\n",
       "      <td>0.776</td>\n",
       "      <td>0.156</td>\n",
       "      <td>0.9999</td>\n",
       "    </tr>\n",
       "    <tr>\n",
       "      <th>2</th>\n",
       "      <td>r981021a_BOE</td>\n",
       "      <td>UK</td>\n",
       "      <td>1998-10-21</td>\n",
       "      <td>Impact of the recent turbulence in internation...</td>\n",
       "      <td>king</td>\n",
       "      <td>1</td>\n",
       "      <td>few industries have suffered more from volatil...</td>\n",
       "      <td>13403</td>\n",
       "      <td>0.078</td>\n",
       "      <td>0.805</td>\n",
       "      <td>0.117</td>\n",
       "      <td>0.9984</td>\n",
       "    </tr>\n",
       "    <tr>\n",
       "      <th>3</th>\n",
       "      <td>r981101a_BOE</td>\n",
       "      <td>UK</td>\n",
       "      <td>1998-11-01</td>\n",
       "      <td>Economic policy, with and without forecasts</td>\n",
       "      <td>budd</td>\n",
       "      <td>0</td>\n",
       "      <td>my topic this evening is the use of forecasts ...</td>\n",
       "      <td>27066</td>\n",
       "      <td>0.051</td>\n",
       "      <td>0.860</td>\n",
       "      <td>0.088</td>\n",
       "      <td>0.9996</td>\n",
       "    </tr>\n",
       "    <tr>\n",
       "      <th>4</th>\n",
       "      <td>r981101b_BOE</td>\n",
       "      <td>UK</td>\n",
       "      <td>1998-11-01</td>\n",
       "      <td>Inflation targeting in practice: the UK experi...</td>\n",
       "      <td>vickers</td>\n",
       "      <td>0</td>\n",
       "      <td>six years ago this week sterling left the exch...</td>\n",
       "      <td>26996</td>\n",
       "      <td>0.068</td>\n",
       "      <td>0.840</td>\n",
       "      <td>0.092</td>\n",
       "      <td>0.9991</td>\n",
       "    </tr>\n",
       "  </tbody>\n",
       "</table>\n",
       "</div>"
      ],
      "text/plain": [
       "      reference country       date  \\\n",
       "0  r980915a_BOE      UK 1998-09-15   \n",
       "1  r981021b_BOE      UK 1998-10-21   \n",
       "2  r981021a_BOE      UK 1998-10-21   \n",
       "3  r981101a_BOE      UK 1998-11-01   \n",
       "4  r981101b_BOE      UK 1998-11-01   \n",
       "\n",
       "                                               title   author  is_gov  \\\n",
       "0                                             Speech   george       0   \n",
       "1                                  Britain in Europe   george       0   \n",
       "2  Impact of the recent turbulence in internation...     king       1   \n",
       "3        Economic policy, with and without forecasts     budd       0   \n",
       "4  Inflation targeting in practice: the UK experi...  vickers       0   \n",
       "\n",
       "                                                text    len    neg    neu  \\\n",
       "0  thank you chairman im actually very pleased to...  13409  0.084  0.820   \n",
       "1  its a great pleasure to be here in the beautif...  23792  0.068  0.776   \n",
       "2  few industries have suffered more from volatil...  13403  0.078  0.805   \n",
       "3  my topic this evening is the use of forecasts ...  27066  0.051  0.860   \n",
       "4  six years ago this week sterling left the exch...  26996  0.068  0.840   \n",
       "\n",
       "     pos  compound  \n",
       "0  0.095    0.9925  \n",
       "1  0.156    0.9999  \n",
       "2  0.117    0.9984  \n",
       "3  0.088    0.9996  \n",
       "4  0.092    0.9991  "
      ]
     },
     "execution_count": 31,
     "metadata": {},
     "output_type": "execute_result"
    }
   ],
   "source": [
    "%%time \n",
    "\n",
    "# Demo: Sentiment intensity analysis using Vadar sentiment and a for loop.\n",
    "sia = SentimentIntensityAnalyzer()\n",
    "dft = pd.DataFrame(columns=['neg', 'neu', 'pos', 'compound'])\n",
    "for j in uk_speeches.index:\n",
    "    score = sia.polarity_scores(uk_speeches.iloc[j,6])\n",
    "    new_row = pd.DataFrame({'neg': score['neg'], 'neu': score['neu'], 'pos': score['pos'], 'compound': score['compound']}, index=[j])\n",
    "    dft = pd.concat([dft, new_row], ignore_index=True)\n",
    "uk_speeches = pd.concat([uk_speeches, dft], axis=1, join=\"inner\")\n",
    "uk_speeches.head()"
   ]
  },
  {
   "cell_type": "markdown",
   "metadata": {},
   "source": [
    "Next, we can also look at the polarity and subjectivity using Textblob:\n",
    "* Polarity lies between -1 (meaning that most words express negative sentiment) and +1 (most words express positive sentiment)\n",
    "\n",
    "* Subjectivity lies between 0 and 1, closer to 0 meaning that the sentiment is more fact-based, whereas closer to one means more personal-opinion-based"
   ]
  },
  {
   "cell_type": "code",
   "execution_count": 32,
   "metadata": {},
   "outputs": [
    {
     "name": "stdout",
     "output_type": "stream",
     "text": [
      "CPU times: total: 24.6 s\n",
      "Wall time: 29.2 s\n"
     ]
    },
    {
     "data": {
      "text/html": [
       "<div>\n",
       "<style scoped>\n",
       "    .dataframe tbody tr th:only-of-type {\n",
       "        vertical-align: middle;\n",
       "    }\n",
       "\n",
       "    .dataframe tbody tr th {\n",
       "        vertical-align: top;\n",
       "    }\n",
       "\n",
       "    .dataframe thead th {\n",
       "        text-align: right;\n",
       "    }\n",
       "</style>\n",
       "<table border=\"1\" class=\"dataframe\">\n",
       "  <thead>\n",
       "    <tr style=\"text-align: right;\">\n",
       "      <th></th>\n",
       "      <th>reference</th>\n",
       "      <th>country</th>\n",
       "      <th>date</th>\n",
       "      <th>title</th>\n",
       "      <th>author</th>\n",
       "      <th>is_gov</th>\n",
       "      <th>text</th>\n",
       "      <th>len</th>\n",
       "      <th>neg</th>\n",
       "      <th>neu</th>\n",
       "      <th>pos</th>\n",
       "      <th>compound</th>\n",
       "      <th>polarity</th>\n",
       "      <th>subjectivity</th>\n",
       "    </tr>\n",
       "  </thead>\n",
       "  <tbody>\n",
       "    <tr>\n",
       "      <th>0</th>\n",
       "      <td>r980915a_BOE</td>\n",
       "      <td>UK</td>\n",
       "      <td>1998-09-15</td>\n",
       "      <td>Speech</td>\n",
       "      <td>george</td>\n",
       "      <td>0</td>\n",
       "      <td>thank you chairman im actually very pleased to...</td>\n",
       "      <td>13409</td>\n",
       "      <td>0.084</td>\n",
       "      <td>0.820</td>\n",
       "      <td>0.095</td>\n",
       "      <td>0.9925</td>\n",
       "      <td>0.083288</td>\n",
       "      <td>0.435206</td>\n",
       "    </tr>\n",
       "    <tr>\n",
       "      <th>1</th>\n",
       "      <td>r981021b_BOE</td>\n",
       "      <td>UK</td>\n",
       "      <td>1998-10-21</td>\n",
       "      <td>Britain in Europe</td>\n",
       "      <td>george</td>\n",
       "      <td>0</td>\n",
       "      <td>its a great pleasure to be here in the beautif...</td>\n",
       "      <td>23792</td>\n",
       "      <td>0.068</td>\n",
       "      <td>0.776</td>\n",
       "      <td>0.156</td>\n",
       "      <td>0.9999</td>\n",
       "      <td>0.076711</td>\n",
       "      <td>0.368726</td>\n",
       "    </tr>\n",
       "    <tr>\n",
       "      <th>2</th>\n",
       "      <td>r981021a_BOE</td>\n",
       "      <td>UK</td>\n",
       "      <td>1998-10-21</td>\n",
       "      <td>Impact of the recent turbulence in internation...</td>\n",
       "      <td>king</td>\n",
       "      <td>1</td>\n",
       "      <td>few industries have suffered more from volatil...</td>\n",
       "      <td>13403</td>\n",
       "      <td>0.078</td>\n",
       "      <td>0.805</td>\n",
       "      <td>0.117</td>\n",
       "      <td>0.9984</td>\n",
       "      <td>0.091432</td>\n",
       "      <td>0.394993</td>\n",
       "    </tr>\n",
       "    <tr>\n",
       "      <th>3</th>\n",
       "      <td>r981101a_BOE</td>\n",
       "      <td>UK</td>\n",
       "      <td>1998-11-01</td>\n",
       "      <td>Economic policy, with and without forecasts</td>\n",
       "      <td>budd</td>\n",
       "      <td>0</td>\n",
       "      <td>my topic this evening is the use of forecasts ...</td>\n",
       "      <td>27066</td>\n",
       "      <td>0.051</td>\n",
       "      <td>0.860</td>\n",
       "      <td>0.088</td>\n",
       "      <td>0.9996</td>\n",
       "      <td>0.086707</td>\n",
       "      <td>0.476692</td>\n",
       "    </tr>\n",
       "    <tr>\n",
       "      <th>4</th>\n",
       "      <td>r981101b_BOE</td>\n",
       "      <td>UK</td>\n",
       "      <td>1998-11-01</td>\n",
       "      <td>Inflation targeting in practice: the UK experi...</td>\n",
       "      <td>vickers</td>\n",
       "      <td>0</td>\n",
       "      <td>six years ago this week sterling left the exch...</td>\n",
       "      <td>26996</td>\n",
       "      <td>0.068</td>\n",
       "      <td>0.840</td>\n",
       "      <td>0.092</td>\n",
       "      <td>0.9991</td>\n",
       "      <td>0.058467</td>\n",
       "      <td>0.394488</td>\n",
       "    </tr>\n",
       "  </tbody>\n",
       "</table>\n",
       "</div>"
      ],
      "text/plain": [
       "      reference country       date  \\\n",
       "0  r980915a_BOE      UK 1998-09-15   \n",
       "1  r981021b_BOE      UK 1998-10-21   \n",
       "2  r981021a_BOE      UK 1998-10-21   \n",
       "3  r981101a_BOE      UK 1998-11-01   \n",
       "4  r981101b_BOE      UK 1998-11-01   \n",
       "\n",
       "                                               title   author  is_gov  \\\n",
       "0                                             Speech   george       0   \n",
       "1                                  Britain in Europe   george       0   \n",
       "2  Impact of the recent turbulence in internation...     king       1   \n",
       "3        Economic policy, with and without forecasts     budd       0   \n",
       "4  Inflation targeting in practice: the UK experi...  vickers       0   \n",
       "\n",
       "                                                text    len    neg    neu  \\\n",
       "0  thank you chairman im actually very pleased to...  13409  0.084  0.820   \n",
       "1  its a great pleasure to be here in the beautif...  23792  0.068  0.776   \n",
       "2  few industries have suffered more from volatil...  13403  0.078  0.805   \n",
       "3  my topic this evening is the use of forecasts ...  27066  0.051  0.860   \n",
       "4  six years ago this week sterling left the exch...  26996  0.068  0.840   \n",
       "\n",
       "     pos  compound  polarity  subjectivity  \n",
       "0  0.095    0.9925  0.083288      0.435206  \n",
       "1  0.156    0.9999  0.076711      0.368726  \n",
       "2  0.117    0.9984  0.091432      0.394993  \n",
       "3  0.088    0.9996  0.086707      0.476692  \n",
       "4  0.092    0.9991  0.058467      0.394488  "
      ]
     },
     "execution_count": 32,
     "metadata": {},
     "output_type": "execute_result"
    }
   ],
   "source": [
    "%%time\n",
    "# Demo: Using a self defined function with Textblob to calculate polarity and subjectivity.\n",
    "def generate_polarity_subjectivity(dfs):\n",
    "    dft2 = TextBlob(dfs).sentiment\n",
    "    return pd.Series([dft2[0], dft2[1]])\n",
    "\n",
    "# Apply the function to the data and add two new columns\n",
    "uk_speeches[['polarity','subjectivity']] = uk_speeches['text'].apply(generate_polarity_subjectivity)\n",
    "uk_speeches.head()"
   ]
  },
  {
   "cell_type": "markdown",
   "metadata": {},
   "source": [
    "We now have a measure of negative, neutral, positive and overall (compound) sentiment in each speech, plus a measure of its polarity and degree of subjectivity.\n",
    "\n",
    "Let's round each of these columns to two decimal places:"
   ]
  },
  {
   "cell_type": "code",
   "execution_count": 33,
   "metadata": {},
   "outputs": [],
   "source": [
    "uk_speeches=uk_speeches.round({'neg':2,'neu':2,'pos':2,'compound':2,'polarity':2,'subjectivity':2})"
   ]
  },
  {
   "cell_type": "code",
   "execution_count": 34,
   "metadata": {},
   "outputs": [
    {
     "data": {
      "text/html": [
       "<div>\n",
       "<style scoped>\n",
       "    .dataframe tbody tr th:only-of-type {\n",
       "        vertical-align: middle;\n",
       "    }\n",
       "\n",
       "    .dataframe tbody tr th {\n",
       "        vertical-align: top;\n",
       "    }\n",
       "\n",
       "    .dataframe thead th {\n",
       "        text-align: right;\n",
       "    }\n",
       "</style>\n",
       "<table border=\"1\" class=\"dataframe\">\n",
       "  <thead>\n",
       "    <tr style=\"text-align: right;\">\n",
       "      <th></th>\n",
       "      <th>reference</th>\n",
       "      <th>country</th>\n",
       "      <th>date</th>\n",
       "      <th>title</th>\n",
       "      <th>author</th>\n",
       "      <th>is_gov</th>\n",
       "      <th>text</th>\n",
       "      <th>len</th>\n",
       "      <th>neg</th>\n",
       "      <th>neu</th>\n",
       "      <th>pos</th>\n",
       "      <th>compound</th>\n",
       "      <th>polarity</th>\n",
       "      <th>subjectivity</th>\n",
       "    </tr>\n",
       "  </thead>\n",
       "  <tbody>\n",
       "    <tr>\n",
       "      <th>0</th>\n",
       "      <td>r980915a_BOE</td>\n",
       "      <td>UK</td>\n",
       "      <td>1998-09-15</td>\n",
       "      <td>Speech</td>\n",
       "      <td>george</td>\n",
       "      <td>0</td>\n",
       "      <td>thank you chairman im actually very pleased to...</td>\n",
       "      <td>13409</td>\n",
       "      <td>0.08</td>\n",
       "      <td>0.82</td>\n",
       "      <td>0.10</td>\n",
       "      <td>0.99</td>\n",
       "      <td>0.08</td>\n",
       "      <td>0.44</td>\n",
       "    </tr>\n",
       "    <tr>\n",
       "      <th>1</th>\n",
       "      <td>r981021b_BOE</td>\n",
       "      <td>UK</td>\n",
       "      <td>1998-10-21</td>\n",
       "      <td>Britain in Europe</td>\n",
       "      <td>george</td>\n",
       "      <td>0</td>\n",
       "      <td>its a great pleasure to be here in the beautif...</td>\n",
       "      <td>23792</td>\n",
       "      <td>0.07</td>\n",
       "      <td>0.78</td>\n",
       "      <td>0.16</td>\n",
       "      <td>1.00</td>\n",
       "      <td>0.08</td>\n",
       "      <td>0.37</td>\n",
       "    </tr>\n",
       "    <tr>\n",
       "      <th>2</th>\n",
       "      <td>r981021a_BOE</td>\n",
       "      <td>UK</td>\n",
       "      <td>1998-10-21</td>\n",
       "      <td>Impact of the recent turbulence in internation...</td>\n",
       "      <td>king</td>\n",
       "      <td>1</td>\n",
       "      <td>few industries have suffered more from volatil...</td>\n",
       "      <td>13403</td>\n",
       "      <td>0.08</td>\n",
       "      <td>0.80</td>\n",
       "      <td>0.12</td>\n",
       "      <td>1.00</td>\n",
       "      <td>0.09</td>\n",
       "      <td>0.39</td>\n",
       "    </tr>\n",
       "    <tr>\n",
       "      <th>3</th>\n",
       "      <td>r981101a_BOE</td>\n",
       "      <td>UK</td>\n",
       "      <td>1998-11-01</td>\n",
       "      <td>Economic policy, with and without forecasts</td>\n",
       "      <td>budd</td>\n",
       "      <td>0</td>\n",
       "      <td>my topic this evening is the use of forecasts ...</td>\n",
       "      <td>27066</td>\n",
       "      <td>0.05</td>\n",
       "      <td>0.86</td>\n",
       "      <td>0.09</td>\n",
       "      <td>1.00</td>\n",
       "      <td>0.09</td>\n",
       "      <td>0.48</td>\n",
       "    </tr>\n",
       "    <tr>\n",
       "      <th>4</th>\n",
       "      <td>r981101b_BOE</td>\n",
       "      <td>UK</td>\n",
       "      <td>1998-11-01</td>\n",
       "      <td>Inflation targeting in practice: the UK experi...</td>\n",
       "      <td>vickers</td>\n",
       "      <td>0</td>\n",
       "      <td>six years ago this week sterling left the exch...</td>\n",
       "      <td>26996</td>\n",
       "      <td>0.07</td>\n",
       "      <td>0.84</td>\n",
       "      <td>0.09</td>\n",
       "      <td>1.00</td>\n",
       "      <td>0.06</td>\n",
       "      <td>0.39</td>\n",
       "    </tr>\n",
       "  </tbody>\n",
       "</table>\n",
       "</div>"
      ],
      "text/plain": [
       "      reference country       date  \\\n",
       "0  r980915a_BOE      UK 1998-09-15   \n",
       "1  r981021b_BOE      UK 1998-10-21   \n",
       "2  r981021a_BOE      UK 1998-10-21   \n",
       "3  r981101a_BOE      UK 1998-11-01   \n",
       "4  r981101b_BOE      UK 1998-11-01   \n",
       "\n",
       "                                               title   author  is_gov  \\\n",
       "0                                             Speech   george       0   \n",
       "1                                  Britain in Europe   george       0   \n",
       "2  Impact of the recent turbulence in internation...     king       1   \n",
       "3        Economic policy, with and without forecasts     budd       0   \n",
       "4  Inflation targeting in practice: the UK experi...  vickers       0   \n",
       "\n",
       "                                                text    len   neg   neu   pos  \\\n",
       "0  thank you chairman im actually very pleased to...  13409  0.08  0.82  0.10   \n",
       "1  its a great pleasure to be here in the beautif...  23792  0.07  0.78  0.16   \n",
       "2  few industries have suffered more from volatil...  13403  0.08  0.80  0.12   \n",
       "3  my topic this evening is the use of forecasts ...  27066  0.05  0.86  0.09   \n",
       "4  six years ago this week sterling left the exch...  26996  0.07  0.84  0.09   \n",
       "\n",
       "   compound  polarity  subjectivity  \n",
       "0      0.99      0.08          0.44  \n",
       "1      1.00      0.08          0.37  \n",
       "2      1.00      0.09          0.39  \n",
       "3      1.00      0.09          0.48  \n",
       "4      1.00      0.06          0.39  "
      ]
     },
     "execution_count": 34,
     "metadata": {},
     "output_type": "execute_result"
    }
   ],
   "source": [
    "uk_speeches.head()"
   ]
  },
  {
   "cell_type": "markdown",
   "metadata": {},
   "source": [
    "Let's take a look at the first speech and identify the most common words:"
   ]
  },
  {
   "cell_type": "code",
   "execution_count": 35,
   "metadata": {},
   "outputs": [
    {
     "name": "stdout",
     "output_type": "stream",
     "text": [
      "CPU times: total: 0 ns\n",
      "Wall time: 45.5 ms\n"
     ]
    },
    {
     "data": {
      "text/plain": [
       "[('economy', 26),\n",
       " ('inflation', 22),\n",
       " ('growth', 15),\n",
       " ('policy', 13),\n",
       " ('demand', 13),\n",
       " ('employment', 10),\n",
       " ('whole', 9),\n",
       " ('sectors', 9),\n",
       " ('know', 8),\n",
       " ('capacity', 8)]"
      ]
     },
     "execution_count": 35,
     "metadata": {},
     "output_type": "execute_result"
    }
   ],
   "source": [
    "%%time\n",
    "# Demo: Frequency distribution review of a single speech.\n",
    "\n",
    "# Tokenise the text data.\n",
    "stop_words=set(stopwords.words('english'))\n",
    "filtered_text = []\n",
    "\n",
    "# Example speech using iloc to reference (Hint: Can be used in loops if required).\n",
    "tokenized_word = word_tokenize(uk_speeches.iloc[0,6])\n",
    "\n",
    "# Filter the tokenised words.\n",
    "for each_word in tokenized_word:\n",
    "    if each_word.lower() not in stop_words and each_word.isalpha():\n",
    "        filtered_text.append(each_word.lower())\n",
    "\n",
    "# Display the filtered list.\n",
    "#print('Tokenised list without stop words: {}'.format(filtered_text))\n",
    "\n",
    "# Create a frequency distribution object.\n",
    "freq_dist_of_words = FreqDist(filtered_text)\n",
    "\n",
    "# Show the five most common elements in the data set.\n",
    "freq_dist_of_words.most_common(10)"
   ]
  },
  {
   "cell_type": "code",
   "execution_count": 36,
   "metadata": {},
   "outputs": [
    {
     "data": {
      "image/png": "[encoded data removed]",
      "text/plain": [
       "<Figure size 2000x1000 with 1 Axes>"
      ]
     },
     "metadata": {},
     "output_type": "display_data"
    }
   ],
   "source": [
    "# Set plotting options and plot the data.\n",
    "fig, ax = plt.subplots(dpi=100)\n",
    "fig.set_size_inches(20, 10)\n",
    "freq_dist_of_words.plot(25, cumulative=False)\n",
    "plt.show()"
   ]
  },
  {
   "cell_type": "markdown",
   "metadata": {},
   "source": [
    "### 4.2 Sentiment Analysis: Implementation of lexicon-based classifier based on the provided Loughran-McDonald word list"
   ]
  },
  {
   "cell_type": "markdown",
   "metadata": {},
   "source": [
    "Bag-of-words approach inspired by https://wrds-www.wharton.upenn.edu/pages/classroom/sec-filings-dictionary-based-sentiment-analysis/\n",
    "Types of sentiments measured by Loughran-McDonald dictionary:\n",
    "* Positive = words with good connotations (e.g. \"best\", \"accomplish\", \"innovativeness\")\n",
    "* Negative = words with bad connotations (e.g. \"indict\", \"abandon\", \"default\")\n",
    "* Litigious = litigation-related words (e.g. \"claimant\", \"tort\", \"absolves\")\n",
    "* Uncertainity = words indicating imprecision (e.g. \"approximate\", \"almost\", \"contingency\")\n",
    "* Strong modal = words expressing certainty of an action (e.g. \"always\", \"definitely\", \"never\")\n",
    "* Weak modal = words expressing uncertainty of an action (e.g. \"almost\", \"could\", \"might\")\n",
    "* Constraining = words related to constraints (e.g. \"required\", \"obligations\", \"commit\")"
   ]
  },
  {
   "cell_type": "code",
   "execution_count": 37,
   "metadata": {},
   "outputs": [],
   "source": [
    "# Create simple df from LM wordlist csv file\n",
    "df_lm = pd.read_csv('LM_wordlist.csv')"
   ]
  },
  {
   "cell_type": "code",
   "execution_count": 38,
   "metadata": {},
   "outputs": [
    {
     "name": "stdout",
     "output_type": "stream",
     "text": [
      "<class 'pandas.core.frame.DataFrame'>\n",
      "RangeIndex: 3880 entries, 0 to 3879\n",
      "Data columns (total 8 columns):\n",
      " #   Column        Non-Null Count  Dtype \n",
      "---  ------        --------------  ----- \n",
      " 0   Word          3880 non-null   object\n",
      " 1   Negative      3880 non-null   int64 \n",
      " 2   Positive      3880 non-null   int64 \n",
      " 3   Uncertainty   3880 non-null   int64 \n",
      " 4   Litigious     3880 non-null   int64 \n",
      " 5   Strong        3880 non-null   int64 \n",
      " 6   Weak          3880 non-null   int64 \n",
      " 7   Constraining  3880 non-null   int64 \n",
      "dtypes: int64(7), object(1)\n",
      "memory usage: 242.6+ KB\n"
     ]
    }
   ],
   "source": [
    "# Sense-check df\n",
    "df_lm.info()"
   ]
  },
  {
   "cell_type": "code",
   "execution_count": 39,
   "metadata": {},
   "outputs": [
    {
     "name": "stdout",
     "output_type": "stream",
     "text": [
      " Unique values in Negative column: [1, 0]\n",
      " Unique values in Positive column: [0, 1]\n",
      " Unique values in Uncertainty column: [0, 1]\n",
      " Unique values in Litigious column: [0, 1]\n",
      " Unique values in Strong column: [0, 1]\n",
      " Unique values in Weak column: [0, 1]\n",
      " Unique values in Constraining column: [0, 1]\n"
     ]
    }
   ],
   "source": [
    "# retrieve unique values in all sentiments columns\n",
    "df_lm.columns\n",
    "for x in [c for c in df_lm.columns.tolist() if c!='Word']:\n",
    "    print(f' Unique values in {x} column: {df_lm[x].unique().tolist()}')"
   ]
  },
  {
   "cell_type": "code",
   "execution_count": 40,
   "metadata": {},
   "outputs": [],
   "source": [
    "# Create Python dictionary from df for LM lexicon\n",
    "dict_lm = {}\n",
    "for x in [c for c in df_lm.columns.tolist() if c!='Word']:\n",
    "    dict_lm[x] = df_lm[df_lm[x] == 1]['Word'].tolist()"
   ]
  },
  {
   "cell_type": "code",
   "execution_count": 41,
   "metadata": {},
   "outputs": [
    {
     "name": "stdout",
     "output_type": "stream",
     "text": [
      "dict_keys(['Negative', 'Positive', 'Uncertainty', 'Litigious', 'Strong', 'Weak', 'Constraining'])\n",
      "\n",
      "Negative : 2355 words (0 duplicates)\n",
      "Positive : 358 words (0 duplicates)\n",
      "Uncertainty : 297 words (0 duplicates)\n",
      "Litigious : 905 words (0 duplicates)\n",
      "Strong : 19 words (0 duplicates)\n",
      "Weak : 27 words (0 duplicates)\n",
      "Constraining : 184 words (0 duplicates)\n",
      "\n"
     ]
    }
   ],
   "source": [
    "# Sanity-check LM lexicon Python dictionary\n",
    "print(dict_lm.keys())\n",
    "print()\n",
    "for x in dict_lm.keys():\n",
    "    print(f'{x} : {len(dict_lm[x])} words ({len(dict_lm[x]) - len(set(dict_lm[x]))} duplicates)')\n",
    "print()\n"
   ]
  },
  {
   "cell_type": "code",
   "execution_count": 42,
   "metadata": {},
   "outputs": [
    {
     "name": "stdout",
     "output_type": "stream",
     "text": [
      "Positive words: ['ABLE', 'ABUNDANCE', 'ABUNDANT', 'ACCLAIMED', 'ACCOMPLISH', 'ACCOMPLISHED', 'ACCOMPLISHES', 'ACCOMPLISHING', 'ACCOMPLISHMENT', 'ACCOMPLISHMENTS', 'ACHIEVE', 'ACHIEVED', 'ACHIEVEMENT', 'ACHIEVEMENTS', 'ACHIEVES', 'ACHIEVING', 'ADEQUATELY', 'ADVANCEMENT', 'ADVANCEMENTS', 'ADVANCES', 'ADVANCING', 'ADVANTAGE', 'ADVANTAGED', 'ADVANTAGEOUS', 'ADVANTAGEOUSLY', 'ADVANTAGES', 'ALLIANCE', 'ALLIANCES', 'ASSURE', 'ASSURED', 'ASSURES', 'ASSURING', 'ATTAIN', 'ATTAINED', 'ATTAINING', 'ATTAINMENT', 'ATTAINMENTS', 'ATTAINS', 'ATTRACTIVE', 'ATTRACTIVENESS', 'BEAUTIFUL', 'BEAUTIFULLY', 'BENEFICIAL', 'BENEFICIALLY', 'BENEFIT', 'BENEFITED', 'BENEFITING', 'BENEFITTED', 'BENEFITTING', 'BEST', 'BETTER', 'BOLSTERED', 'BOLSTERING', 'BOLSTERS', 'BOOM', 'BOOMING', 'BOOST', 'BOOSTED', 'BREAKTHROUGH', 'BREAKTHROUGHS', 'BRILLIANT', 'CHARITABLE', 'COLLABORATE', 'COLLABORATED', 'COLLABORATES', 'COLLABORATING', 'COLLABORATION', 'COLLABORATIONS', 'COLLABORATIVE', 'COLLABORATOR', 'COLLABORATORS', 'COMPLIMENT', 'COMPLIMENTARY', 'COMPLIMENTED', 'COMPLIMENTING', 'COMPLIMENTS', 'CONCLUSIVE', 'CONCLUSIVELY', 'CONDUCIVE', 'CONFIDENT', 'CONSTRUCTIVE', 'CONSTRUCTIVELY', 'COURTEOUS', 'CREATIVE', 'CREATIVELY', 'CREATIVENESS', 'CREATIVITY', 'DELIGHT', 'DELIGHTED', 'DELIGHTFUL', 'DELIGHTFULLY', 'DELIGHTING', 'DELIGHTS', 'DEPENDABILITY', 'DEPENDABLE', 'DESIRABLE', 'DESIRED', 'DESPITE', 'DESTINED', 'DILIGENT', 'DILIGENTLY', 'DISTINCTION', 'DISTINCTIONS', 'DISTINCTIVE', 'DISTINCTIVELY', 'DISTINCTIVENESS', 'DREAM', 'EASIER', 'EASILY', 'EASY', 'EFFECTIVE', 'EFFICIENCIES', 'EFFICIENCY', 'EFFICIENT', 'EFFICIENTLY', 'EMPOWER', 'EMPOWERED', 'EMPOWERING', 'EMPOWERS', 'ENABLE', 'ENABLED', 'ENABLES', 'ENABLING', 'ENCOURAGED', 'ENCOURAGEMENT', 'ENCOURAGES', 'ENCOURAGING', 'ENHANCE', 'ENHANCED', 'ENHANCEMENT', 'ENHANCEMENTS', 'ENHANCES', 'ENHANCING', 'ENJOY', 'ENJOYABLE', 'ENJOYABLY', 'ENJOYED', 'ENJOYING', 'ENJOYMENT', 'ENJOYS', 'ENTHUSIASM', 'ENTHUSIASTIC', 'ENTHUSIASTICALLY', 'EXCELLENCE', 'EXCELLENT', 'EXCELLING', 'EXCELS', 'EXCEPTIONAL', 'EXCEPTIONALLY', 'EXCITED', 'EXCITEMENT', 'EXCITING', 'EXCLUSIVE', 'EXCLUSIVELY', 'EXCLUSIVENESS', 'EXCLUSIVES', 'EXCLUSIVITY', 'EXEMPLARY', 'EXPANSION', 'FANTASTIC', 'FAVORABLE', 'FAVORABLY', 'FAVORED', 'FAVORING', 'FAVORITE', 'FAVORITES', 'FRIENDLY', 'GAIN', 'GAINED', 'GAINING', 'GAINS', 'GOOD', 'GREAT', 'GREATER', 'GREATEST', 'GREATLY', 'GREATNESS', 'GROWTH', 'HAPPIEST', 'HAPPILY', 'HAPPINESS', 'HAPPY', 'HIGHEST', 'HONOR', 'HONORABLE', 'HONORED', 'HONORING', 'HONORS', 'IDEAL', 'IMPRESS', 'IMPRESSED', 'IMPRESSES', 'IMPRESSING', 'IMPRESSIVE', 'IMPRESSIVELY', 'IMPROVE', 'IMPROVED', 'IMPROVEMENT', 'IMPROVEMENTS', 'IMPROVES', 'IMPROVING', 'INCREDIBLE', 'INCREDIBLY', 'INFLUENTIAL', 'INFORMATIVE', 'INGENUITY', 'INNOVATE', 'INNOVATED', 'INNOVATES', 'INNOVATING', 'INNOVATION', 'INNOVATIONS', 'INNOVATIVE', 'INNOVATIVENESS', 'INNOVATOR', 'INNOVATORS', 'INSIGHTFUL', 'INSPIRATION', 'INSPIRATIONAL', 'INTEGRITY', 'INVENT', 'INVENTED', 'INVENTING', 'INVENTION', 'INVENTIONS', 'INVENTIVE', 'INVENTIVENESS', 'INVENTOR', 'INVENTORS', 'LEADERSHIP', 'LEADING', 'LOOSE', 'LOOSENING', 'LOYAL', 'LUCRATIVE', 'MERITORIOUS', 'OPPORTUNITIES', 'OPPORTUNITY', 'OPTIMISTIC', 'OUTPERFORM', 'OUTPERFORMED', 'OUTPERFORMING', 'OUTPERFORMS', 'PERFECT', 'PERFECTED', 'PERFECTLY', 'PERFECTS', 'PLEASANT', 'PLEASANTLY', 'PLEASED', 'PLEASURE', 'PLENTIFUL', 'POPULAR', 'POPULARITY', 'POSITIVE', 'POSITIVELY', 'PREEMINENCE', 'PREEMINENT', 'PREMIER', 'PREMIERE', 'PRESTIGE', 'PRESTIGIOUS', 'PROACTIVE', 'PROACTIVELY', 'PROFICIENCY', 'PROFICIENT', 'PROFICIENTLY', 'PROFITABILITY', 'PROFITABLE', 'PROFITABLY', 'PROGRESS', 'PROGRESSED', 'PROGRESSES', 'PROGRESSING', 'PROSPERED', 'PROSPERING', 'PROSPERITY', 'PROSPEROUS', 'PROSPERS', 'REBOUND', 'REBOUNDED', 'REBOUNDING', 'RECEPTIVE', 'REGAIN', 'REGAINED', 'REGAINING', 'RESOLVE', 'REVOLUTIONIZE', 'REVOLUTIONIZED', 'REVOLUTIONIZES', 'REVOLUTIONIZING', 'REWARD', 'REWARDED', 'REWARDING', 'REWARDS', 'SATISFACTION', 'SATISFACTORILY', 'SATISFACTORY', 'SATISFIED', 'SATISFIES', 'SATISFY', 'SATISFYING', 'SMOOTH', 'SMOOTHING', 'SMOOTHLY', 'SMOOTHS', 'SOLVES', 'SOLVING', 'SPECTACULAR', 'SPECTACULARLY', 'STABILITY', 'STABILIZATION', 'STABILIZATIONS', 'STABILIZE', 'STABILIZED', 'STABILIZES', 'STABILIZING', 'STABLE', 'STRENGTH', 'STRENGTHEN', 'STRENGTHENED', 'STRENGTHENING', 'STRENGTHENS', 'STRENGTHS', 'STRONG', 'STRONGER', 'STRONGEST', 'SUCCEED', 'SUCCEEDED', 'SUCCEEDING', 'SUCCEEDS', 'SUCCESS', 'SUCCESSES', 'SUCCESSFUL', 'SUCCESSFULLY', 'SUPERIOR', 'SURPASS', 'SURPASSED', 'SURPASSES', 'SURPASSING', 'TRANSPARENCY', 'TREMENDOUS', 'TREMENDOUSLY', 'UNMATCHED', 'UNPARALLELED', 'UNSURPASSED', 'UPTURN', 'UPTURNS', 'VALUABLE', 'VERSATILE', 'VERSATILITY', 'VIBRANCY', 'VIBRANT', 'WIN', 'WINNER', 'WINNERS', 'WINNING', 'WORTHY']\n"
     ]
    }
   ],
   "source": [
    "# view positive words by way of an example\n",
    "print(f\"Positive words: {dict_lm['Positive']}\")"
   ]
  },
  {
   "cell_type": "code",
   "execution_count": 43,
   "metadata": {},
   "outputs": [
    {
     "name": "stdout",
     "output_type": "stream",
     "text": [
      "The following words from LM lexicon are also in stop_words: ['against', 'will']\n",
      "Length of stop_words set: 179\n",
      "Removing from stop_words set the following words: ['against', 'will']\n",
      "Length of stop_words set after cleanup: 177\n"
     ]
    }
   ],
   "source": [
    "# check for words from LM lexicon that are also in stop words and remove those from stop words\n",
    "lm_words_in_stop_words = df_lm[df_lm['Word'].str.lower().isin(stop_words)]['Word'].str.lower().tolist()\n",
    "print(f'The following words from LM lexicon are also in stop_words: {lm_words_in_stop_words}')\n",
    "print(f'Length of stop_words set: {len(stop_words)}')\n",
    "print(f'Removing from stop_words set the following words: {lm_words_in_stop_words}')\n",
    "for w in lm_words_in_stop_words:\n",
    "    stop_words.remove(w)\n",
    "print(f'Length of stop_words set after cleanup: {len(stop_words)}')"
   ]
  },
  {
   "cell_type": "code",
   "execution_count": 44,
   "metadata": {},
   "outputs": [],
   "source": [
    "# pick sample speech for testing purposes\n",
    "sample = uk_speeches.iloc[5]['text']"
   ]
  },
  {
   "cell_type": "code",
   "execution_count": 45,
   "metadata": {},
   "outputs": [
    {
     "name": "stdout",
     "output_type": "stream",
     "text": [
      "Text has 2303 tokens.\n"
     ]
    }
   ],
   "source": [
    "# tokenize sample text:\n",
    "tokens = word_tokenize(sample)\n",
    "print(f'Text has {len(tokens)} tokens.')"
   ]
  },
  {
   "cell_type": "code",
   "execution_count": 46,
   "metadata": {},
   "outputs": [
    {
     "name": "stdout",
     "output_type": "stream",
     "text": [
      "Filtered text has 1148 tokens.\n"
     ]
    }
   ],
   "source": [
    "#filter out stop words\n",
    "filtered_tokens = [t for t in tokens if t not in stop_words]\n",
    "print(f'Filtered text has {len(filtered_tokens)} tokens.')"
   ]
  },
  {
   "cell_type": "code",
   "execution_count": 47,
   "metadata": {},
   "outputs": [],
   "source": [
    "# generate frequency distribution\n",
    "freqdist = FreqDist(filtered_tokens)"
   ]
  },
  {
   "cell_type": "code",
   "execution_count": 48,
   "metadata": {},
   "outputs": [
    {
     "name": "stdout",
     "output_type": "stream",
     "text": [
      "Top 100 most frequent words: [('economy', 26), ('growth', 19), ('rate', 13), ('year', 12), ('inflation', 11), ('2', 10), ('recession', 9), ('policy', 9), ('headlines', 8), ('past', 8), ('time', 8), ('even', 8), ('demand', 8), ('monetary', 8), ('facts', 7), ('world', 7), ('output', 7), ('whole', 7), ('sectors', 7), ('will', 7), ('slowdown', 6), ('next', 6), ('say', 6), ('point', 6), ('price', 6), ('evidence', 6), ('around', 6), ('economic', 5), ('12', 5), ('years', 5), ('well', 5), ('one', 5), ('forecasts', 5), ('since', 5), ('uk', 5), ('tighten', 5), ('overall', 5), ('would', 5), ('order', 4), ('things', 4), ('last', 4), ('3', 4), ('two', 4), ('data', 4), ('fall', 4), ('credit', 4), ('underlying', 4), ('target', 4), ('much', 4), ('rates', 4), ('including', 4), ('course', 4), ('stability', 4), ('put', 3), ('recent', 3), ('read', 3), ('serious', 3), ('1997', 3), ('1', 3), ('certainly', 3), ('average', 3), ('annual', 3), ('trend', 3), ('latest', 3), ('month', 3), ('ago', 3), ('best', 3), ('true', 3), ('unemployment', 3), ('lowest', 3), ('early', 3), ('prices', 3), ('hit', 3), ('uncertainty', 3), ('capacity', 3), ('improvement', 3), ('labour', 3), ('market', 3), ('employment', 3), ('domestic', 3), ('exposed', 3), ('though', 3), ('fact', 3), ('know', 3), ('bit', 3), ('particular', 3), ('less', 3), ('interest', 3), ('second', 3), ('pressure', 3), ('activity', 3), ('see', 3), ('cycle', 3), ('seen', 3), ('simply', 3), ('let', 2), ('alongside', 2), ('meltdown', 2), ('try', 2), ('crisis', 2)]\n"
     ]
    }
   ],
   "source": [
    "# check top 100 most frequent words\n",
    "print(f'Top 100 most frequent words: {freqdist.most_common(100)}')"
   ]
  },
  {
   "cell_type": "code",
   "execution_count": 49,
   "metadata": {},
   "outputs": [],
   "source": [
    "# create dataframe from frequency distribution \n",
    "df_freqdist = pd.DataFrame(freqdist.items(), columns=['word', 'frequency'])"
   ]
  },
  {
   "cell_type": "code",
   "execution_count": 50,
   "metadata": {},
   "outputs": [
    {
     "name": "stdout",
     "output_type": "stream",
     "text": [
      "<class 'pandas.core.frame.DataFrame'>\n",
      "RangeIndex: 638 entries, 0 to 637\n",
      "Data columns (total 2 columns):\n",
      " #   Column     Non-Null Count  Dtype \n",
      "---  ------     --------------  ----- \n",
      " 0   word       638 non-null    object\n",
      " 1   frequency  638 non-null    int64 \n",
      "dtypes: int64(1), object(1)\n",
      "memory usage: 10.1+ KB\n",
      "None\n",
      "           word  frequency\n",
      "0           let          2\n",
      "1           put          3\n",
      "2        recent          3\n",
      "3     newspaper          1\n",
      "4     headlines          8\n",
      "5     alongside          2\n",
      "6         facts          7\n",
      "7         order          4\n",
      "8        things          4\n",
      "9   perspective          1\n",
      "10        first          1\n",
      "11        world          7\n",
      "12      economy         26\n",
      "13         read          3\n",
      "14     meltdown          2\n",
      "15      warning          1\n",
      "16         wake          1\n",
      "17     economic          5\n",
      "18     slowdown          6\n",
      "19           g7          1\n",
      "sum of all values in frequency column: 1148\n"
     ]
    }
   ],
   "source": [
    "# sense check frequency distribution dataframe\n",
    "print(df_freqdist.info())\n",
    "print(df_freqdist.head(20))\n",
    "print(f\"sum of all values in frequency column: {df_freqdist['frequency'].sum()}\")"
   ]
  },
  {
   "cell_type": "code",
   "execution_count": 51,
   "metadata": {},
   "outputs": [
    {
     "name": "stdout",
     "output_type": "stream",
     "text": [
      "Negative : 68\n",
      "Positive : 39\n",
      "Uncertainty : 27\n",
      "Litigious : 1\n",
      "Strong : 17\n",
      "Weak : 13\n",
      "Constraining : 3\n"
     ]
    }
   ],
   "source": [
    "# obtaining total of words appearing in sample from each sentiment\n",
    "for k in dict_lm.keys():\n",
    "    print(f\"{k} : {df_freqdist[df_freqdist['word'].str.upper().isin(dict_lm[k])]['frequency'].sum()}\") "
   ]
  },
  {
   "cell_type": "code",
   "execution_count": 52,
   "metadata": {},
   "outputs": [],
   "source": [
    "# create function for code reuse\n",
    "def get_lm_scores(text):\n",
    "    tokens = word_tokenize(text)\n",
    "    filtered_tokens = [t for t in tokens if t not in stop_words]\n",
    "    num_filtered_tokens = len(filtered_tokens)\n",
    "    freqdist = FreqDist(filtered_tokens)\n",
    "    df_freqdist = pd.DataFrame(freqdist.items(), columns=['word', 'frequency'])\n",
    "    output = {}\n",
    "    output['num_filtered_tokens'] = num_filtered_tokens\n",
    "    for k in dict_lm.keys():\n",
    "        output['num_' + k] = df_freqdist[df_freqdist['word'].str.upper().isin(dict_lm[k])]['frequency'].sum()\n",
    "        output[k + '_ratio'] = df_freqdist[df_freqdist['word'].str.upper().isin(dict_lm[k])]['frequency'].sum() / num_filtered_tokens \n",
    "    return output "
   ]
  },
  {
   "cell_type": "code",
   "execution_count": 53,
   "metadata": {},
   "outputs": [],
   "source": [
    "# create function for code reuse, optimised for use with 'apply' function on pandas dfs\n",
    "def get_lm_scores_list(text):\n",
    "    tokens = word_tokenize(text)\n",
    "    filtered_tokens = [t for t in tokens if t not in stop_words]\n",
    "    num_filtered_tokens = len(filtered_tokens)\n",
    "    freqdist = FreqDist(filtered_tokens)\n",
    "    df_freqdist = pd.DataFrame(freqdist.items(), columns=['word', 'frequency'])\n",
    "    output = []\n",
    "    output.append(num_filtered_tokens)\n",
    "    for k in dict_lm.keys():\n",
    "        output.append(df_freqdist[df_freqdist['word'].str.upper().isin(dict_lm[k])]['frequency'].sum())\n",
    "        output.append(df_freqdist[df_freqdist['word'].str.upper().isin(dict_lm[k])]['frequency'].sum() / num_filtered_tokens) \n",
    "    return pd.Series(output) "
   ]
  },
  {
   "cell_type": "code",
   "execution_count": 54,
   "metadata": {},
   "outputs": [
    {
     "name": "stdout",
     "output_type": "stream",
     "text": [
      "{'num_filtered_tokens': 1148, 'num_Negative': 68, 'Negative_ratio': 0.059233449477351915, 'num_Positive': 39, 'Positive_ratio': 0.03397212543554007, 'num_Uncertainty': 27, 'Uncertainty_ratio': 0.023519163763066203, 'num_Litigious': 1, 'Litigious_ratio': 0.0008710801393728223, 'num_Strong': 17, 'Strong_ratio': 0.014808362369337979, 'num_Weak': 13, 'Weak_ratio': 0.01132404181184669, 'num_Constraining': 3, 'Constraining_ratio': 0.002613240418118467}\n",
      "\n",
      "0     1148.000000\n",
      "1       68.000000\n",
      "2        0.059233\n",
      "3       39.000000\n",
      "4        0.033972\n",
      "5       27.000000\n",
      "6        0.023519\n",
      "7        1.000000\n",
      "8        0.000871\n",
      "9       17.000000\n",
      "10       0.014808\n",
      "11      13.000000\n",
      "12       0.011324\n",
      "13       3.000000\n",
      "14       0.002613\n",
      "dtype: float64\n",
      "\n",
      "0     1148.000000\n",
      "1       68.000000\n",
      "2        0.059233\n",
      "3       39.000000\n",
      "4        0.033972\n",
      "5       27.000000\n",
      "6        0.023519\n",
      "7        1.000000\n",
      "8        0.000871\n",
      "9       17.000000\n",
      "10       0.014808\n",
      "11      13.000000\n",
      "12       0.011324\n",
      "13       3.000000\n",
      "14       0.002613\n",
      "dtype: float64\n"
     ]
    }
   ],
   "source": [
    "# test functions (1)\n",
    "print(get_lm_scores(sample))\n",
    "print()\n",
    "print(pd.Series(list(get_lm_scores(sample).values())))\n",
    "print()\n",
    "print(get_lm_scores_list(sample))"
   ]
  },
  {
   "cell_type": "code",
   "execution_count": 55,
   "metadata": {},
   "outputs": [
    {
     "name": "stdout",
     "output_type": "stream",
     "text": [
      "{'num_filtered_tokens': 2085, 'num_Negative': 87, 'Negative_ratio': 0.041726618705035974, 'num_Positive': 82, 'Positive_ratio': 0.039328537170263786, 'num_Uncertainty': 52, 'Uncertainty_ratio': 0.024940047961630695, 'num_Litigious': 6, 'Litigious_ratio': 0.0028776978417266188, 'num_Strong': 39, 'Strong_ratio': 0.01870503597122302, 'num_Weak': 30, 'Weak_ratio': 0.014388489208633094, 'num_Constraining': 16, 'Constraining_ratio': 0.007673860911270983}\n",
      "\n",
      "['num_filtered_tokens', 'num_Negative', 'Negative_ratio', 'num_Positive', 'Positive_ratio', 'num_Uncertainty', 'Uncertainty_ratio', 'num_Litigious', 'Litigious_ratio', 'num_Strong', 'Strong_ratio', 'num_Weak', 'Weak_ratio', 'num_Constraining', 'Constraining_ratio']\n",
      "\n",
      "0     2085.000000\n",
      "1       87.000000\n",
      "2        0.041727\n",
      "3       82.000000\n",
      "4        0.039329\n",
      "5       52.000000\n",
      "6        0.024940\n",
      "7        6.000000\n",
      "8        0.002878\n",
      "9       39.000000\n",
      "10       0.018705\n",
      "11      30.000000\n",
      "12       0.014388\n",
      "13      16.000000\n",
      "14       0.007674\n",
      "dtype: float64\n",
      "\n",
      "0     2085.000000\n",
      "1       87.000000\n",
      "2        0.041727\n",
      "3       82.000000\n",
      "4        0.039329\n",
      "5       52.000000\n",
      "6        0.024940\n",
      "7        6.000000\n",
      "8        0.002878\n",
      "9       39.000000\n",
      "10       0.018705\n",
      "11      30.000000\n",
      "12       0.014388\n",
      "13      16.000000\n",
      "14       0.007674\n",
      "dtype: float64\n"
     ]
    }
   ],
   "source": [
    "# tests function (2)\n",
    "print(get_lm_scores(uk_speeches.iloc[1]['text']))\n",
    "print()\n",
    "print(list(get_lm_scores(uk_speeches.iloc[1]['text']).keys()))\n",
    "print()\n",
    "print(pd.Series(list(get_lm_scores(uk_speeches.iloc[1]['text']).values())))\n",
    "print()\n",
    "print(get_lm_scores_list(uk_speeches.iloc[1]['text']))"
   ]
  },
  {
   "cell_type": "code",
   "execution_count": 56,
   "metadata": {},
   "outputs": [],
   "source": [
    "lm_scores = ['num_filtered_tokens', 'num_Negative', 'Negative_ratio', 'num_Positive', \n",
    "             'Positive_ratio', 'num_Uncertainty', 'Uncertainty_ratio', 'num_Litigious',\n",
    "             'Litigious_ratio', 'num_Strong', 'Strong_ratio', 'num_Weak', 'Weak_ratio', \n",
    "             'num_Constraining', 'Constraining_ratio']"
   ]
  },
  {
   "cell_type": "code",
   "execution_count": 57,
   "metadata": {},
   "outputs": [],
   "source": [
    "uk_speeches[lm_scores] = uk_speeches['text'].apply(get_lm_scores_list)"
   ]
  },
  {
   "cell_type": "code",
   "execution_count": 58,
   "metadata": {},
   "outputs": [
    {
     "name": "stdout",
     "output_type": "stream",
     "text": [
      "<class 'pandas.core.frame.DataFrame'>\n",
      "RangeIndex: 1209 entries, 0 to 1208\n",
      "Data columns (total 29 columns):\n",
      " #   Column               Non-Null Count  Dtype         \n",
      "---  ------               --------------  -----         \n",
      " 0   reference            1209 non-null   object        \n",
      " 1   country              1209 non-null   object        \n",
      " 2   date                 1209 non-null   datetime64[ns]\n",
      " 3   title                1209 non-null   object        \n",
      " 4   author               1209 non-null   object        \n",
      " 5   is_gov               1209 non-null   int64         \n",
      " 6   text                 1209 non-null   object        \n",
      " 7   len                  1209 non-null   int64         \n",
      " 8   neg                  1209 non-null   float64       \n",
      " 9   neu                  1209 non-null   float64       \n",
      " 10  pos                  1209 non-null   float64       \n",
      " 11  compound             1209 non-null   float64       \n",
      " 12  polarity             1209 non-null   float64       \n",
      " 13  subjectivity         1209 non-null   float64       \n",
      " 14  num_filtered_tokens  1209 non-null   float64       \n",
      " 15  num_Negative         1209 non-null   float64       \n",
      " 16  Negative_ratio       1209 non-null   float64       \n",
      " 17  num_Positive         1209 non-null   float64       \n",
      " 18  Positive_ratio       1209 non-null   float64       \n",
      " 19  num_Uncertainty      1209 non-null   float64       \n",
      " 20  Uncertainty_ratio    1209 non-null   float64       \n",
      " 21  num_Litigious        1209 non-null   float64       \n",
      " 22  Litigious_ratio      1209 non-null   float64       \n",
      " 23  num_Strong           1209 non-null   float64       \n",
      " 24  Strong_ratio         1209 non-null   float64       \n",
      " 25  num_Weak             1209 non-null   float64       \n",
      " 26  Weak_ratio           1209 non-null   float64       \n",
      " 27  num_Constraining     1209 non-null   float64       \n",
      " 28  Constraining_ratio   1209 non-null   float64       \n",
      "dtypes: datetime64[ns](1), float64(21), int64(2), object(5)\n",
      "memory usage: 274.0+ KB\n"
     ]
    }
   ],
   "source": [
    "uk_speeches.info()"
   ]
  },
  {
   "cell_type": "code",
   "execution_count": 59,
   "metadata": {},
   "outputs": [],
   "source": [
    "# renaming columns to distinguish between Vader, TextBlob and LM scores\n",
    "uk_speeches = uk_speeches.rename(columns={\n",
    "    'neg': 'vader_neg',\n",
    "    'neu': 'vader_neu',\n",
    "    'pos': 'vader_pos',\n",
    "    'compound': 'vader_compound',\n",
    "    'polarity': 'textblob_polarity',\n",
    "    'subjectivity': 'textblob_subjectivity',\n",
    "    'num_filtered_tokens': 'lm_num_filtered_tokens',\n",
    "    'num_Negative': 'lm_num_negative',\n",
    "    'Negative_ratio': 'lm_negative_ratio',\n",
    "    'num_Positive': 'lm_num_positive',\n",
    "    'Positive_ratio': 'lm_positive_ratio',\n",
    "    'num_Uncertainty': 'lm_num_uncertainty',\n",
    "    'Uncertainty_ratio': 'lm_uncertainty_ratio',\n",
    "    'num_Litigious': 'lm_num_litigious',\n",
    "    'Litigious_ratio': 'lm_litigious_ratio',\n",
    "    'num_Strong': 'lm_num_strong',\n",
    "    'Strong_ratio': 'lm_strong_ratio',\n",
    "    'num_Weak': 'lm_num_weak',\n",
    "    'Weak_ratio': 'lm_weak_ratio',\n",
    "    'num_Constraining': 'lm_num_constraining',\n",
    "    'Constraining_ratio': 'lm_constraining_ratio'})"
   ]
  },
  {
   "cell_type": "code",
   "execution_count": 60,
   "metadata": {},
   "outputs": [
    {
     "name": "stdout",
     "output_type": "stream",
     "text": [
      "<class 'pandas.core.frame.DataFrame'>\n",
      "RangeIndex: 1209 entries, 0 to 1208\n",
      "Data columns (total 29 columns):\n",
      " #   Column                  Non-Null Count  Dtype         \n",
      "---  ------                  --------------  -----         \n",
      " 0   reference               1209 non-null   object        \n",
      " 1   country                 1209 non-null   object        \n",
      " 2   date                    1209 non-null   datetime64[ns]\n",
      " 3   title                   1209 non-null   object        \n",
      " 4   author                  1209 non-null   object        \n",
      " 5   is_gov                  1209 non-null   int64         \n",
      " 6   text                    1209 non-null   object        \n",
      " 7   len                     1209 non-null   int64         \n",
      " 8   vader_neg               1209 non-null   float64       \n",
      " 9   vader_neu               1209 non-null   float64       \n",
      " 10  vader_pos               1209 non-null   float64       \n",
      " 11  vader_compound          1209 non-null   float64       \n",
      " 12  textblob_polarity       1209 non-null   float64       \n",
      " 13  textblob_subjectivity   1209 non-null   float64       \n",
      " 14  lm_num_filtered_tokens  1209 non-null   float64       \n",
      " 15  lm_num_negative         1209 non-null   float64       \n",
      " 16  lm_negative_ratio       1209 non-null   float64       \n",
      " 17  lm_num_positive         1209 non-null   float64       \n",
      " 18  lm_positive_ratio       1209 non-null   float64       \n",
      " 19  lm_num_uncertainty      1209 non-null   float64       \n",
      " 20  lm_uncertainty_ratio    1209 non-null   float64       \n",
      " 21  lm_num_litigious        1209 non-null   float64       \n",
      " 22  lm_litigious_ratio      1209 non-null   float64       \n",
      " 23  lm_num_strong           1209 non-null   float64       \n",
      " 24  lm_strong_ratio         1209 non-null   float64       \n",
      " 25  lm_num_weak             1209 non-null   float64       \n",
      " 26  lm_weak_ratio           1209 non-null   float64       \n",
      " 27  lm_num_constraining     1209 non-null   float64       \n",
      " 28  lm_constraining_ratio   1209 non-null   float64       \n",
      "dtypes: datetime64[ns](1), float64(21), int64(2), object(5)\n",
      "memory usage: 274.0+ KB\n"
     ]
    }
   ],
   "source": [
    "uk_speeches.info()"
   ]
  },
  {
   "cell_type": "code",
   "execution_count": 61,
   "metadata": {},
   "outputs": [
    {
     "data": {
      "text/html": [
       "<div>\n",
       "<style scoped>\n",
       "    .dataframe tbody tr th:only-of-type {\n",
       "        vertical-align: middle;\n",
       "    }\n",
       "\n",
       "    .dataframe tbody tr th {\n",
       "        vertical-align: top;\n",
       "    }\n",
       "\n",
       "    .dataframe thead th {\n",
       "        text-align: right;\n",
       "    }\n",
       "</style>\n",
       "<table border=\"1\" class=\"dataframe\">\n",
       "  <thead>\n",
       "    <tr style=\"text-align: right;\">\n",
       "      <th></th>\n",
       "      <th>reference</th>\n",
       "      <th>country</th>\n",
       "      <th>date</th>\n",
       "      <th>title</th>\n",
       "      <th>author</th>\n",
       "      <th>is_gov</th>\n",
       "      <th>text</th>\n",
       "      <th>len</th>\n",
       "      <th>vader_neg</th>\n",
       "      <th>vader_neu</th>\n",
       "      <th>...</th>\n",
       "      <th>lm_num_uncertainty</th>\n",
       "      <th>lm_uncertainty_ratio</th>\n",
       "      <th>lm_num_litigious</th>\n",
       "      <th>lm_litigious_ratio</th>\n",
       "      <th>lm_num_strong</th>\n",
       "      <th>lm_strong_ratio</th>\n",
       "      <th>lm_num_weak</th>\n",
       "      <th>lm_weak_ratio</th>\n",
       "      <th>lm_num_constraining</th>\n",
       "      <th>lm_constraining_ratio</th>\n",
       "    </tr>\n",
       "  </thead>\n",
       "  <tbody>\n",
       "    <tr>\n",
       "      <th>0</th>\n",
       "      <td>r980915a_BOE</td>\n",
       "      <td>UK</td>\n",
       "      <td>1998-09-15</td>\n",
       "      <td>Speech</td>\n",
       "      <td>george</td>\n",
       "      <td>0</td>\n",
       "      <td>thank you chairman im actually very pleased to...</td>\n",
       "      <td>13409</td>\n",
       "      <td>0.08</td>\n",
       "      <td>0.82</td>\n",
       "      <td>...</td>\n",
       "      <td>24.0</td>\n",
       "      <td>0.020942</td>\n",
       "      <td>3.0</td>\n",
       "      <td>0.002618</td>\n",
       "      <td>20.0</td>\n",
       "      <td>0.017452</td>\n",
       "      <td>16.0</td>\n",
       "      <td>0.013962</td>\n",
       "      <td>2.0</td>\n",
       "      <td>0.001745</td>\n",
       "    </tr>\n",
       "    <tr>\n",
       "      <th>1</th>\n",
       "      <td>r981021b_BOE</td>\n",
       "      <td>UK</td>\n",
       "      <td>1998-10-21</td>\n",
       "      <td>Britain in Europe</td>\n",
       "      <td>george</td>\n",
       "      <td>0</td>\n",
       "      <td>its a great pleasure to be here in the beautif...</td>\n",
       "      <td>23792</td>\n",
       "      <td>0.07</td>\n",
       "      <td>0.78</td>\n",
       "      <td>...</td>\n",
       "      <td>52.0</td>\n",
       "      <td>0.024940</td>\n",
       "      <td>6.0</td>\n",
       "      <td>0.002878</td>\n",
       "      <td>39.0</td>\n",
       "      <td>0.018705</td>\n",
       "      <td>30.0</td>\n",
       "      <td>0.014388</td>\n",
       "      <td>16.0</td>\n",
       "      <td>0.007674</td>\n",
       "    </tr>\n",
       "    <tr>\n",
       "      <th>2</th>\n",
       "      <td>r981021a_BOE</td>\n",
       "      <td>UK</td>\n",
       "      <td>1998-10-21</td>\n",
       "      <td>Impact of the recent turbulence in internation...</td>\n",
       "      <td>king</td>\n",
       "      <td>1</td>\n",
       "      <td>few industries have suffered more from volatil...</td>\n",
       "      <td>13403</td>\n",
       "      <td>0.08</td>\n",
       "      <td>0.80</td>\n",
       "      <td>...</td>\n",
       "      <td>49.0</td>\n",
       "      <td>0.040164</td>\n",
       "      <td>2.0</td>\n",
       "      <td>0.001639</td>\n",
       "      <td>11.0</td>\n",
       "      <td>0.009016</td>\n",
       "      <td>17.0</td>\n",
       "      <td>0.013934</td>\n",
       "      <td>5.0</td>\n",
       "      <td>0.004098</td>\n",
       "    </tr>\n",
       "    <tr>\n",
       "      <th>3</th>\n",
       "      <td>r981101a_BOE</td>\n",
       "      <td>UK</td>\n",
       "      <td>1998-11-01</td>\n",
       "      <td>Economic policy, with and without forecasts</td>\n",
       "      <td>budd</td>\n",
       "      <td>0</td>\n",
       "      <td>my topic this evening is the use of forecasts ...</td>\n",
       "      <td>27066</td>\n",
       "      <td>0.05</td>\n",
       "      <td>0.86</td>\n",
       "      <td>...</td>\n",
       "      <td>90.0</td>\n",
       "      <td>0.038927</td>\n",
       "      <td>11.0</td>\n",
       "      <td>0.004758</td>\n",
       "      <td>31.0</td>\n",
       "      <td>0.013408</td>\n",
       "      <td>42.0</td>\n",
       "      <td>0.018166</td>\n",
       "      <td>15.0</td>\n",
       "      <td>0.006488</td>\n",
       "    </tr>\n",
       "    <tr>\n",
       "      <th>4</th>\n",
       "      <td>r981101b_BOE</td>\n",
       "      <td>UK</td>\n",
       "      <td>1998-11-01</td>\n",
       "      <td>Inflation targeting in practice: the UK experi...</td>\n",
       "      <td>vickers</td>\n",
       "      <td>0</td>\n",
       "      <td>six years ago this week sterling left the exch...</td>\n",
       "      <td>26996</td>\n",
       "      <td>0.07</td>\n",
       "      <td>0.84</td>\n",
       "      <td>...</td>\n",
       "      <td>119.0</td>\n",
       "      <td>0.047638</td>\n",
       "      <td>21.0</td>\n",
       "      <td>0.008407</td>\n",
       "      <td>19.0</td>\n",
       "      <td>0.007606</td>\n",
       "      <td>49.0</td>\n",
       "      <td>0.019616</td>\n",
       "      <td>12.0</td>\n",
       "      <td>0.004804</td>\n",
       "    </tr>\n",
       "  </tbody>\n",
       "</table>\n",
       "<p>5 rows × 29 columns</p>\n",
       "</div>"
      ],
      "text/plain": [
       "      reference country       date  \\\n",
       "0  r980915a_BOE      UK 1998-09-15   \n",
       "1  r981021b_BOE      UK 1998-10-21   \n",
       "2  r981021a_BOE      UK 1998-10-21   \n",
       "3  r981101a_BOE      UK 1998-11-01   \n",
       "4  r981101b_BOE      UK 1998-11-01   \n",
       "\n",
       "                                               title   author  is_gov  \\\n",
       "0                                             Speech   george       0   \n",
       "1                                  Britain in Europe   george       0   \n",
       "2  Impact of the recent turbulence in internation...     king       1   \n",
       "3        Economic policy, with and without forecasts     budd       0   \n",
       "4  Inflation targeting in practice: the UK experi...  vickers       0   \n",
       "\n",
       "                                                text    len  vader_neg  \\\n",
       "0  thank you chairman im actually very pleased to...  13409       0.08   \n",
       "1  its a great pleasure to be here in the beautif...  23792       0.07   \n",
       "2  few industries have suffered more from volatil...  13403       0.08   \n",
       "3  my topic this evening is the use of forecasts ...  27066       0.05   \n",
       "4  six years ago this week sterling left the exch...  26996       0.07   \n",
       "\n",
       "   vader_neu  ...  lm_num_uncertainty  lm_uncertainty_ratio  lm_num_litigious  \\\n",
       "0       0.82  ...                24.0              0.020942               3.0   \n",
       "1       0.78  ...                52.0              0.024940               6.0   \n",
       "2       0.80  ...                49.0              0.040164               2.0   \n",
       "3       0.86  ...                90.0              0.038927              11.0   \n",
       "4       0.84  ...               119.0              0.047638              21.0   \n",
       "\n",
       "   lm_litigious_ratio  lm_num_strong  lm_strong_ratio  lm_num_weak  \\\n",
       "0            0.002618           20.0         0.017452         16.0   \n",
       "1            0.002878           39.0         0.018705         30.0   \n",
       "2            0.001639           11.0         0.009016         17.0   \n",
       "3            0.004758           31.0         0.013408         42.0   \n",
       "4            0.008407           19.0         0.007606         49.0   \n",
       "\n",
       "   lm_weak_ratio  lm_num_constraining  lm_constraining_ratio  \n",
       "0       0.013962                  2.0               0.001745  \n",
       "1       0.014388                 16.0               0.007674  \n",
       "2       0.013934                  5.0               0.004098  \n",
       "3       0.018166                 15.0               0.006488  \n",
       "4       0.019616                 12.0               0.004804  \n",
       "\n",
       "[5 rows x 29 columns]"
      ]
     },
     "execution_count": 61,
     "metadata": {},
     "output_type": "execute_result"
    }
   ],
   "source": [
    "uk_speeches.head()"
   ]
  }
 ],
 "metadata": {
  "kernelspec": {
   "display_name": "Python 3 (ipykernel)",
   "language": "python",
   "name": "python3"
  },
  "language_info": {
   "codemirror_mode": {
    "name": "ipython",
    "version": 3
   },
   "file_extension": ".py",
   "mimetype": "text/x-python",
   "name": "python",
   "nbconvert_exporter": "python",
   "pygments_lexer": "ipython3",
   "version": "3.11.4"
  }
 },
 "nbformat": 4,
 "nbformat_minor": 4
}
