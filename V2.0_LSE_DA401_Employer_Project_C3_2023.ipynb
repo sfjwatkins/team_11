{
 "cells": [
  {
   "cell_type": "markdown",
   "metadata": {},
   "source": [
    "# Employer Project: the Bank of England\n"
   ]
  },
  {
   "cell_type": "markdown",
   "metadata": {},
   "source": [
    "## Table of Contents\n",
    "\n",
    "<h3>\n",
    "\n",
    "[1. Introduction](#1.-Introduction)\n",
    "\n",
    "[2. Goals](#2.-Goals)\n",
    "\n",
    "[3. Data Collection & Preprocessing](#3.-Data-Collection-&-Preprocessing)\n",
    "\n",
    "[4. Data Analysis](#4.-Data-Analysis)\n",
    "\n",
    "[5. Appendix A: List of Files Needed for this Notebook](#Appendix-A:-List-of-Files-Needed-for-this-Notebook)\n",
    "\n",
    "[6. Appendix B: List of Accompanying Notebooks](#Appendix-B:-List-of-Accompanying-Notebooks)\n",
    "\n",
    "</h3>"
   ]
  },
  {
   "cell_type": "markdown",
   "metadata": {
    "slideshow": {
     "slide_type": "slide"
    }
   },
   "source": [
    "\n",
    "## 1. Introduction\n",
    "\n",
    "The client for this project is the Bank of England. Here is an excerpt from the project briefing, profiling the Bank:\n",
    "\n",
    "> The Bank of England's mission is to promote the good of the people of the United Kingdom by maintaining monetary and financial stability. The Bank of England plays a multifaceted role in the national economy. Its primary objectives include maintaining price stability and supporting the government’s economic policies. To achieve this, the Bank has control over monetary policy instruments, primarily the setting of interest rates. By altering interest rates, the Bank can influence borrowing costs for businesses and individuals, which in turn affects spending, investment, and inflation. \n",
    "\n",
    "More information about the Bank of England can be found [here.](https://www.bankofengland.co.uk/about)\n",
    "\n",
    "\n",
    "The scenario for this project, as outlined in the briefing, is as follows: \n",
    "\n",
    "> Part of the job of the Bank of England is to provide reassurance and stability to financial markets. One way this is achieved is through representatives of the Bank delivering speeches at various public events. As an organisation, the Bank of England is interested in how the trends in these speeches correlate with observed events and economic indicators, as well as how the sentiment of these speeches can be used to predict market behaviour. This analysis will inform our understanding of the impact of the Bank’s communications on the economy, as well as the predictive power of using this data set."
   ]
  },
  {
   "cell_type": "markdown",
   "metadata": {},
   "source": [
    "### 1.1 Business Questions\n",
    "\n",
    "To provide insight into the above, The Bank of England's Data Strategy & Implementation Division needs answers to the following questions:\n",
    "\n",
    "1. Has the sentiment of central bank speeches changed over time? If so, how has it changed?\n",
    "<br>\n",
    "<br>\n",
    "2. How does the sentiment of the Bank of England’s speeches correlate with key events such as:\n",
    "    * bank rate decisions (including direction/magnitude of the change)\n",
    "    * publication of the Monetary Policy Report\n",
    "    * publication of the  Financial Stability Report/Review\n",
    "    * any other events or trends that may be relevant or interesting?  \n",
    "<br>\n",
    "<br>\n",
    "3. How does the sentiment of speeches correlate with key economic indicators of the UK, such as:\n",
    "    * GDP growth\n",
    "    * inflation\n",
    "    * labour market statistics (e.g. unemployment and wages)\n",
    "    * any other economic indicators that may be relevant or interesting.\n",
    "<br>   \n",
    "<br>\n",
    "4. Do these speeches have any predictive power to assist in predicting market behaviour?\n",
    "<br>\n",
    "<br>\n",
    "5.  Are there other insights or findings from the analysis that may be of interest to the organisation?\n",
    "<br>\n",
    "<br>\n",
    "6.  What are the potential reasons for any of the correlations discovered above? How have you drawn these conclusions?\n"
   ]
  },
  {
   "cell_type": "markdown",
   "metadata": {},
   "source": [
    "## 2. Goals\n",
    "\n",
    "\n",
    "**1. To submit a 'Project Scope and Plan' by 18th March:**\n",
    "* A 1,000-word overview and project plan covering project roles, roadmap, objectives, communications plans, work agreements, as well as a refined problem statement and draft project scope\n",
    "<br>\n",
    "<br>\n",
    "\n",
    "**2. To submit an 'Initial Recommendation Pitch' by 15th April:**\n",
    "\n",
    "* Presentation deck (pdf) covering background/context, summary of analysis and visualisation approach, data-informed recommendations and conclusion\n",
    "* Presentation recording (5-10 mins) (MP4)\n",
    "<br>\n",
    "<br>\n",
    "\n",
    "**3. To submit a 'Final Report and Presentation' by 22nd April:**\n",
    "\n",
    "* Pdf Report (1,500 words (+/- 10%) describing the problem, approach, insights identified; recommendations; all aspects of presentation\n",
    "* Code (file or link), submitted as private GitHub repo, Jupyter Notebook or RMarkdown (must be reproducible) \n",
    "* Presentation deck (pdf): a summary of the process followed by the group, visualised data story justifiying recommendations\n",
    "* Live presentation (10-15 mins) (date TBC)\n",
    "<br>\n",
    "<br>\n",
    "\n",
    "**4. To submit an 'Individual Reflection' by 22nd April:** \n",
    "\n",
    "* Pdf document (500 words, +/- 10%) covering reflections on how effectively the group worked together, what challenging situations we encountered and how we responded to them, what contributions we made as individuals and what was the most useful feedback we received that we can use for group projects moving forward"
   ]
  },
  {
   "cell_type": "markdown",
   "metadata": {
    "slideshow": {
     "slide_type": "slide"
    }
   },
   "source": [
    "## 3. Data Collection & Preprocessing\n"
   ]
  },
  {
   "cell_type": "markdown",
   "metadata": {
    "slideshow": {
     "slide_type": "slide"
    }
   },
   "source": [
    "### 3.1 Getting the Data\n",
    "\n",
    "\n",
    "#### Data for Natural Language Processing\n",
    "\n",
    "* `all_speeches.csv`: this is a [publically-available Kaggle dataset](https://www.kaggle.com/datasets/davidgauthier/central-bank-speeches/data) comprised of a corpus of speeches from senior central bankers of various influential central banks. This corpus covers the period from 1997 until 2022 and was provided to the team as part of the project briefing\n",
    "<br>\n",
    "<br>\n",
    "* `LSE_DA_BoE_Employer_project_Sentiment-labelled_wordlist.xlsx`: a list of words labelled with sentiment, provided along with the project brief\n",
    "<br>\n",
    "<br>\n",
    "* `scraped_speeches.csv`: the most recent governor and deputy governor speeches scraped from the [Bank of England web pages.]( https://www.bankofengland.co.uk/news/speeches ) by the project team. For the code used for scraping and preprocessing of this data set, please see accompanying workbook `scraping_speeches.ippynb`\n",
    "\n",
    "\n",
    "#### Bank of England Data\n",
    "\n",
    "* `mpcvoting.xlsx`: a record of voting decisions by the Bank of England in relation to Bank Rate (6th Jun 1997-1st Feb 2024), Stock of Government Bond Purchases (4th Aug 2016-21st Sep 2023), Stock of Corporate Bond Purchases (4th Aug 2016-3rd Feb 2022) and Asset Purchase Decisions (5th Mar 2009-4th Aug 2016).  Each of the tabs was cleaned and preprocessed- see section 3.2.3 below\n",
    "<br>\n",
    "<br>\n",
    "* Links were also provided to publicly-available Bank of England reports: the ['Monetary Policy Reports'](https://www.bankofengland.co.uk/monetary-policy-report/monetary-policy-report)  and ['Financial Stability Reports'](https://www.bankofengland.co.uk/financial-stability-report/financial-stability-reports). Publication dates for these were scraped from the Bank of England web pages.The code for this is provided in a separate Notebook (`monetary_policy_reports_beautifulsoup.ipynb` and `financial_stability_reports_beautifulsoup.ipynb`) \n",
    "\n",
    "\n",
    "#### Additional Office for National Statistics (OfS) Data\n",
    "\n",
    "* Links to publicly-available data-sets related to [GDP Growth](https://www.ons.gov.uk/economy/grossdomesticproductgdp), [Inflation and Price Indices](https://www.ons.gov.uk/economy/inflationandpriceindices) and [Labour Market Statistics](https://www.ons.gov.uk/employmentandlabourmarket/peopleinwork/employmentandemployeetypes/bulletins/uklabourmarket/previousReleases) were provided as part of the briefing. The team chose to focus on the following: \n",
    "  * NOMIS Economic Activity Data\n",
    "  * ONS Vacancies Data\n",
    "  * ONS GDP Data\n",
    "  * ONS CPI and CPIH Monthly Indices\n",
    "  * ONS Average Weekly Earnings Data <div class=\"alert alert-block alert-info\">\n",
    "<b>@Alison:</b> Could you provide me with the links to where you downloaded each of these datsets from please and I will add them here, thank you!\n",
    "</div>\n",
    "<br>"
   ]
  },
  {
   "cell_type": "markdown",
   "metadata": {
    "slideshow": {
     "slide_type": "slide"
    }
   },
   "source": [
    "### 3.2 Preprocessing the Data\n",
    "\n",
    "### 3.2.1 Preprocessing of Sentiment Analysis Data\n",
    "\n",
    "The following steps were followed:\n",
    "\n",
    "* `all_speeches.csv` and `scraped_speeches.csv` were combined into one dataset\n",
    "* This dataset was cleaned\n",
    "* The following sentiment analysis was carried out: \n",
    "  * Vader\n",
    "  * TextBlob\n",
    "  * mplementation of lexicon-based classifier based on the provided Loughran-McDonald word list\n",
    "  * Roberta model\n",
    "  \n",
    "The outputs from this analysis was combined into the dataset: `uk_speeches_sentiments_processed_3.0.csv`. This preprocessed dataset is presented below. \n",
    "  \n",
    "Please see separate Notebooks containing the code for the above: \n",
    "\n",
    "<div class=\"alert alert-block alert-success\">\n",
    "<b>Val:</b> Which is your notebook(s) do you think we should attach with the submission? I will add to the list in Appendix B\n",
    "</div>\n",
    "\n",
    "The metadata for this dataframe is as follows:"
   ]
  },
  {
   "cell_type": "markdown",
   "metadata": {},
   "source": [
    "| **Column**             | **Description**                                                                                                                                |\n",
    "|:--- |:--- |\n",
    "| reference                 | Speech reference number  |\n",
    "| country                    | Country where speech was made                                                                                                                  |\n",
    "| date      | Date of speech                 |\n",
    "| title | Title of speech |\n",
    "| author         | Who wrote the speech     |\n",
    "| is_gov             | 1= The person making the speech was a governor; 0= was not a governor                                                                                            |\n",
    "| text               | The text of the speech          |\n",
    "| string_len              | Number of characters in speech|\n",
    "| formatted_text               | Formatted text- check with Val how |\n",
    "| vader_neg | Vader negative sentiment score |\n",
    "| vader_neu | Vader neutral sentiment score  |\n",
    "| vader_pos | Vader positive sentiment score  |\n",
    "| vader_compound | Vader compound sentiment score  |\n",
    "| textblob_polarity | TextBlob polarity score  |\n",
    "| textblob_subjectivity | Vader neutral sentiment score  |\n",
    "| lm_num_filtered_tokens | Filtered tokens for lm classifier.\n",
    "  |\n",
    "| lm_num_negative |  The columns prefixed by 'lm_num' contain the count of tokens per sentiment in the speech.This is the Lm negative sentiment score. Negative = words with bad connotations (e.g. \"indict\", \"abandon\", \"default\")  |\n",
    "| lm_negative_ratio | The columns suffixed by 'ratio' contain the count of tokens per sentiment in the speech divided by the total number of tokens in the speech. This is the Lm negative ratio  |\n",
    "| lm_num_positive | Lm positive sentiment score. Positive = words with good connotations (e.g. \"best\", \"accomplish\", \"innovativeness\") |\n",
    "| lm_positive_ratio | Lm positive ratio  |\n",
    "| lm_num_uncertainty | Lm uncertainty score. Uncertainity = words indicating imprecision (e.g. \"approximate\", \"almost\", \"contingency\")\n",
    "  |\n",
    "| lm_uncertainty_ratio | Lm uncertainty ratio  |\n",
    "| lm_num_litigious | Lm litigious score. Litigious = litigation-related words (e.g. \"claimant\", \"tort\", \"absolves\")\n",
    "  |\n",
    "| lm_litigious_ratio | Lm litigious ratio  |\n",
    "| lm_num_strong | Lm strong sentiment score. Strong modal = words expressing certainty of an action (e.g. \"always\", \"definitely\", \"never\")\n",
    "  |\n",
    "| lm_strong_ratio | Lm stregnth ratio  |\n",
    "| lm_num_weak | Lm weak sentiment score. Weak modal = words expressing uncertainty of an action (e.g. \"almost\", \"could\", \"might\")\n",
    "  |\n",
    "| lm_weak_ratio | Lm weak ratio  |\n",
    "| lm_num_constraining | Lm constraining sentiment score. Constraining = words related to constraints (e.g. \"required\", \"obligations\", \"commit\")  |\n",
    "| lm_constraining_ratio | Lm constraining ratio  |\n",
    "| lm_polarity | The lm_polarity column computes (lm_num_positive - lm_num_negative) / (lm_num_positive + lm_num_negative) |\n",
    "| lm_subjectivity | The lm_subjectivity column computes (lm_num_positive + lm_num_negative) / lm_num_filtered_tokens  |\n",
    "| dovish-hawkish-polarity| The dovish-hawkish-polarity column computes per speech: (sum Dovish - sum Hawkish) / (sum Dovish + sum Hawkish)  |\n",
    "| dovish-hawkish-subjectivity | The dovish-hawkish-subjectity column computes per speech: (sum Dovish + sum Hawkish) / (sum Dovish + sum Hawkish + sum Neutral)\n",
    " |\n"
   ]
  },
  {
   "cell_type": "code",
   "execution_count": 2,
   "metadata": {},
   "outputs": [],
   "source": [
    "# Importing libraries that we will use\n",
    "\n",
    "import pandas as pd\n",
    "import numpy as np\n",
    "import os\n",
    "import matplotlib.pyplot as plt\n",
    "from datetime import datetime"
   ]
  },
  {
   "cell_type": "markdown",
   "metadata": {},
   "source": [
    "<div class=\"alert alert-block alert-danger\">\n",
    "<b>Please note:</b> the imported file below is still version 1.0; we need to replace this with version 3.0 when Val has finalised this (code will not currently run as intended)\n",
    "</div>"
   ]
  },
  {
   "cell_type": "code",
   "execution_count": null,
   "metadata": {
    "scrolled": true
   },
   "outputs": [],
   "source": [
    "uk_speeches=pd.read_csv('uk_speeches_sentiments_processed_V1.0.csv')"
   ]
  },
  {
   "cell_type": "code",
   "execution_count": null,
   "metadata": {},
   "outputs": [],
   "source": [
    "uk_speeches.head()"
   ]
  },
  {
   "cell_type": "markdown",
   "metadata": {},
   "source": [
    "### 3.2.2 Selecting Which Sentiment Scores to Use to Answer Questions"
   ]
  },
  {
   "cell_type": "markdown",
   "metadata": {},
   "source": [
    "We were intereseted in exploring which of the sentiment score would be best to use for exploring their relatioship with the economic and financial indicators. \n",
    "\n",
    "First, we computed summary scores per classifier: polarity multiplied by subjectivity\n",
    "\n",
    "For example, if a speech is for the most part neutral (80% neutral, 20% subjective), but the part that is subjective is 100% postive (or dovish), we have:\n",
    "\n",
    "* polarity = 1 (because 100% of the subjective part is positive)\n",
    "* subjectivity = 0.2 (only 20% of the speech is either positive or negative)\n",
    "* summary = 1 multiplied by 0.2 = 0.2    "
   ]
  },
  {
   "cell_type": "markdown",
   "metadata": {},
   "source": [
    "<div class=\"alert alert-block alert-danger\">\n",
    "<b>Please note:</b> this code is taken from Notebook 'Val_Exploratory_Data_Analysis_V1.0': it won't work here yet as that Notebook was based on 'uk_speeches_sentiments_processed_V3.0.csv' which I dont have yet\n",
    "</div>\n",
    "\n"
   ]
  },
  {
   "cell_type": "code",
   "execution_count": null,
   "metadata": {},
   "outputs": [],
   "source": [
    "df_sp = pd.read_csv('uk_speeches_sentiments_processed_V3.0.csv')"
   ]
  },
  {
   "cell_type": "code",
   "execution_count": null,
   "metadata": {},
   "outputs": [],
   "source": [
    "df_sp['vader_summary'] = df_sp.apply(lambda x: (x['vader_polarity'] * x['vader_subjectivity']), axis=1)"
   ]
  },
  {
   "cell_type": "code",
   "execution_count": null,
   "metadata": {},
   "outputs": [],
   "source": [
    "df_sp['textblob_summary'] = df_sp.apply(lambda x: x['textblob_polarity'] * x['textblob_subjectivity'] , axis=1)"
   ]
  },
  {
   "cell_type": "code",
   "execution_count": null,
   "metadata": {},
   "outputs": [],
   "source": [
    "df_sp['dovish-hawkish_summary'] = df_sp.apply(lambda x: x['dovish-hawkish-polarity'] * x['dovish-hawkish-subjectivity'] , axis=1)"
   ]
  },
  {
   "cell_type": "code",
   "execution_count": null,
   "metadata": {},
   "outputs": [],
   "source": [
    "df_sp['lm_summary'] = df_sp.apply(lambda x: x['lm_polarity'] * x['lm_subjectivity'] , axis=1)"
   ]
  },
  {
   "cell_type": "code",
   "execution_count": null,
   "metadata": {},
   "outputs": [],
   "source": [
    "#check for null values:\n",
    "df_sp.isna().sum()"
   ]
  },
  {
   "cell_type": "markdown",
   "metadata": {},
   "source": [
    "Sense check correlations between summaries of the various classifiers"
   ]
  },
  {
   "cell_type": "code",
   "execution_count": null,
   "metadata": {},
   "outputs": [],
   "source": [
    "# retrieve list of column names with 'summary' in the name\n",
    "col_summaries = [c for c in df_sp.columns if 'summary' in c]\n",
    "print (col_summaries)\n",
    "collist = col_summaries"
   ]
  },
  {
   "cell_type": "code",
   "execution_count": null,
   "metadata": {},
   "outputs": [],
   "source": [
    "df_sp_small = df_sp[collist]"
   ]
  },
  {
   "cell_type": "code",
   "execution_count": null,
   "metadata": {},
   "outputs": [],
   "source": [
    "# plotting correlation heatmap \n",
    "dataplot = sb.heatmap(df_sp_small.corr(), cmap=\"YlGnBu\", annot=True) \n",
    "\n",
    "# displaying heatmap \n",
    "mp.show() "
   ]
  },
  {
   "cell_type": "code",
   "execution_count": null,
   "metadata": {},
   "outputs": [],
   "source": [
    "# function to easily review correlations\n",
    "def get_top_correlations_blog(df, threshold=0.4):\n",
    "    \"\"\"\n",
    "    df: the dataframe to get correlations from\n",
    "    threshold: the maximum and minimum value to include for correlations. For eg, if this is 0.4, only pairs haveing a correlation coefficient greater than 0.4 or less than -0.4 will be included in the results. \n",
    "    \"\"\"\n",
    "    orig_corr = df.corr()\n",
    "    c = orig_corr.abs()\n",
    "\n",
    "    so = c.unstack()\n",
    "\n",
    "    print(\"|    Variable 1    |    Variable 2    | Correlation Coefficient    |\")\n",
    "    print(\"|------------------|------------------|----------------------------|\")\n",
    "    \n",
    "    i=0\n",
    "    pairs=set()\n",
    "    result = pd.DataFrame()\n",
    "    for index, value in so.sort_values(ascending=False).iteritems():\n",
    "        # Exclude duplicates and self-correlations\n",
    "        if value > threshold \\\n",
    "        and index[0] != index[1] \\\n",
    "        and (index[0], index[1]) not in pairs \\\n",
    "        and (index[1], index[0]) not in pairs:\n",
    "            \n",
    "            print(f'|    {index[0]}    |    {index[1]}    |    {orig_corr.loc[(index[0], index[1])]}    |')\n",
    "            result.loc[i, ['Variable 1', 'Variable 2', 'Correlation Coefficient']] = [index[0], index[1], orig_corr.loc[(index[0], index[1])]]\n",
    "            pairs.add((index[0], index[1]))\n",
    "            i+=1\n",
    "    return result.reset_index(drop=True).set_index(['Variable 1', 'Variable 2'])"
   ]
  },
  {
   "cell_type": "code",
   "execution_count": null,
   "metadata": {},
   "outputs": [],
   "source": [
    "get_top_correlations_blog(df_sp_small, 0.3)"
   ]
  },
  {
   "cell_type": "code",
   "execution_count": null,
   "metadata": {},
   "outputs": [],
   "source": [
    "for c in collist:\n",
    "    plt.hist(df_sp[c])\n",
    "    plt.title(c)\n",
    "    plt.show()"
   ]
  },
  {
   "cell_type": "markdown",
   "metadata": {},
   "source": [
    "Findings on summary scores comparisons of the various classifiers:\n",
    "* Vader and LM are highly correlated\n",
    "* Vader and TextBlob are somewhat correlated\n",
    "* TextBlob and LM are somewhat correlated\n",
    "* Hawkish-dovish is not correlated to any of the other classifiers\n",
    "* Various distribution shapes for all classifiers"
   ]
  },
  {
   "cell_type": "markdown",
   "metadata": {},
   "source": [
    "Sense check correlations between polarities of the various classifiers"
   ]
  },
  {
   "cell_type": "code",
   "execution_count": null,
   "metadata": {},
   "outputs": [],
   "source": [
    "# retrieve list of column names with 'polarity' in the name\n",
    "col_polarities = [c for c in df_sp.columns if 'polarity' in c]\n",
    "print (col_polarities)\n",
    "collist = col_polarities\n",
    "\n",
    "df_sp_small = df_sp[collist]"
   ]
  },
  {
   "cell_type": "code",
   "execution_count": null,
   "metadata": {},
   "outputs": [],
   "source": [
    "# plotting correlation heatmap \n",
    "dataplot = sb.heatmap(df_sp_small.corr(), cmap=\"YlGnBu\", annot=True) \n",
    "\n",
    "# displaying heatmap \n",
    "mp.show()"
   ]
  },
  {
   "cell_type": "code",
   "execution_count": null,
   "metadata": {},
   "outputs": [],
   "source": [
    "get_top_correlations_blog(df_sp_small, 0.3)"
   ]
  },
  {
   "cell_type": "code",
   "execution_count": null,
   "metadata": {},
   "outputs": [],
   "source": [
    "for c in collist:\n",
    "    plt.hist(df_sp[c])\n",
    "    plt.title(c)\n",
    "    plt.show()"
   ]
  },
  {
   "cell_type": "markdown",
   "metadata": {},
   "source": [
    "Findings on polarity scores comparisons of the various classifiers\n",
    "* Vader and LM are strongly correlated\n",
    "* Vader and TextBlob are somewhat correlated\n",
    "* TextBlob and LM are somewhat correlated\n",
    "* Hawkish-dovish is not correlated to any other classifier\n",
    "* Hawkish-dovish has an unusual distribution\n",
    "* Modal value for Hawkish-dovish is 'just slightly dovish' (dovish = positive, hawkish = negative)\n",
    "* TextBlob hardly has any negative sentiment"
   ]
  },
  {
   "cell_type": "markdown",
   "metadata": {},
   "source": [
    "### Sense checking correlations between subjectivity of the various classifiers"
   ]
  },
  {
   "cell_type": "code",
   "execution_count": null,
   "metadata": {},
   "outputs": [],
   "source": [
    "# retrieve list of column names with 'subjectivity' in the name\n",
    "col_subjectivities = [c for c in df_sp.columns if 'subjectivity' in c]\n",
    "print (col_subjectivities)\n",
    "collist = col_subjectivities"
   ]
  },
  {
   "cell_type": "code",
   "execution_count": null,
   "metadata": {},
   "outputs": [],
   "source": [
    "df_sp_small = df_sp[collist]"
   ]
  },
  {
   "cell_type": "code",
   "execution_count": null,
   "metadata": {},
   "outputs": [],
   "source": [
    "# plotting correlation heatmap \n",
    "dataplot = sb.heatmap(df_sp_small.corr(), cmap=\"YlGnBu\", annot=True) \n",
    "\n",
    "# displaying heatmap \n",
    "mp.show()"
   ]
  },
  {
   "cell_type": "code",
   "execution_count": null,
   "metadata": {},
   "outputs": [],
   "source": [
    "get_top_correlations_blog(df_sp_small, 0.3)"
   ]
  },
  {
   "cell_type": "code",
   "execution_count": null,
   "metadata": {},
   "outputs": [],
   "source": [
    "for c in collist:\n",
    "    plt.hist(df_sp[c])\n",
    "    plt.title(c)\n",
    "    plt.show()"
   ]
  },
  {
   "cell_type": "markdown",
   "metadata": {},
   "source": [
    "Findings on polarity scores comparisons of the various classifiers\n",
    "* Vader and LM are somewhat correlated\n",
    "* Hawkish-dovish distribution is not normal\n",
    "* Modal value for Hawkish-dovish is 'fairly neutral' (subjectivity close to 0)"
   ]
  },
  {
   "cell_type": "markdown",
   "metadata": {},
   "source": [
    "### Conclusion\n",
    "* Vader, LM and TextBlob classifier scores reflect the tone of the speech (irrespective of the monetary stance)\n",
    "* Hawkish-dovish classifer scores reflect the monetary stance: from extremely dovish (1) to extremely hawkish (-1)\n",
    "\n",
    "The team oncluded that the following two scores should be used to correlate with economic indicators:\n",
    "* lm_summary\n",
    "* dovish-hawkish_summary"
   ]
  },
  {
   "cell_type": "markdown",
   "metadata": {},
   "source": [
    "### 3.2.3 Preprocessing of Bank of England Data\n",
    "\n",
    "In brief, the following steps were taken:\n",
    "\n",
    "* The 'Bank Rates Decisions' tab from `mpcvoting.xlsx` was imported and cleaned; voting intentions were calculated for each member voting; and ratio of 'Hawkish to Dovish' was calculated; and then a further column added calculating strength of the decision\n",
    "*  The ''Stock of govt. bond purchases' tab from `mpcvoting.xlsx` was imported, cleaned and voting intentions by date retained\n",
    "*  The 'Stock of corp. bond purchases' tab was imported, cleaned and voting intentions by date retained\n",
    "* Asset purchase decision from 'Asset Purchase Decisions' tab were imported and processed \n",
    "* All of these dateframes were then combined into one dataframe, `MPC_Processed.csv`\n",
    "\n",
    "\n",
    "<div class=\"alert alert-block alert-info\">\n",
    "<b>Alison:</b> Could you check on the above (I'm note sure if I've summarised it very well, thanks)?\n",
    "</div>\n",
    "\n",
    "Please see the Notebook `BoE_MPCVoting_Preprocessing.ipynb` for all of the code for this preprocessing. \n",
    "\n",
    "Here is the metadata for this dataframe:\n",
    "<div class=\"alert alert-block alert-info\">\n",
    "<b>Alison:</b> There are a couple of gaps in the below, would you minding adding them, thank you!\n",
    "</div>"
   ]
  },
  {
   "cell_type": "markdown",
   "metadata": {},
   "source": [
    "| **Column**             | **Description**                                                                                                                                |\n",
    "|:--- |:--- |\n",
    "| MPC_MeetingDate                | The meeting date  |\n",
    "| MPC_PreviousRate | Rate set at previous meeting                                                                                                                 |\n",
    "| MPC_RateDecided | Rate set at the meeting                 |\n",
    "| MPC_RateDecision| Overall decision (as string): 'Increase', 'Stay' or 'Decrease' |\n",
    "| MPC_RateChange| Computed column showing difference from previous rate set|\n",
    "| MPC_VotedIncrease|Calculated column based on number of members who voted to increase the rate |\n",
    "| MPC_VotedStay | Calculated column based on number of members who voted to keep the rate the same    |\n",
    "|MPC_VotedDecrease  | Calculated column based on number of members who voted to decrease the rate|\n",
    "| MPC_PropVotedIncRate  | For each meeting proportion who voted to increase the rate. 1 = all voted increase, 0.5 = half voted increase, 0 = none vote increase|\n",
    "| MPC_PropVotedDecRate | For each meeting proportion who voted to decrease the rate. 1 = all voted decrease, 0.5 = half voted decrease, 0 = none vote decrease |\n",
    "|MPC_PropVotedStayRate | For each meeting proportion who voted to keep the rate the same ('stay'). 1 = all voted stay, 0.5 = half voted stay, 0 = none vote stay  |\n",
    "| MPC_DecisionStrength | Returns the relevant proportion so if decision is to increase returns PropVotedIncRate |\n",
    "| MPC_StockGovtBond| Description here |\n",
    "| MPC_StockCorpBond| Description here |\n",
    "| MPC_BondStock | Total Asset Purchases financed with central bank reserves (£bn)  |\n",
    "| MPC_PreviousBondStock |Total Asset Purchases financed with central bank reserves  at previous meeting (£bn)\n",
    "  |\n",
    "| MPC_BondStock_Change |  Difference in total from previous meeting (£bn)  |\n",
    "| MPC_QEDec | Description here  |\n"
   ]
  },
  {
   "cell_type": "code",
   "execution_count": 3,
   "metadata": {},
   "outputs": [],
   "source": [
    "mpc=pd.read_csv('MPC_Processed.csv')"
   ]
  },
  {
   "cell_type": "code",
   "execution_count": 6,
   "metadata": {},
   "outputs": [
    {
     "data": {
      "text/html": [
       "<div>\n",
       "<style scoped>\n",
       "    .dataframe tbody tr th:only-of-type {\n",
       "        vertical-align: middle;\n",
       "    }\n",
       "\n",
       "    .dataframe tbody tr th {\n",
       "        vertical-align: top;\n",
       "    }\n",
       "\n",
       "    .dataframe thead th {\n",
       "        text-align: right;\n",
       "    }\n",
       "</style>\n",
       "<table border=\"1\" class=\"dataframe\">\n",
       "  <thead>\n",
       "    <tr style=\"text-align: right;\">\n",
       "      <th></th>\n",
       "      <th>MPC_MeetingDate</th>\n",
       "      <th>MPC_PreviousRate</th>\n",
       "      <th>MPC_RateDecided</th>\n",
       "      <th>MPC_RateDecision</th>\n",
       "      <th>MPC_RateChange</th>\n",
       "      <th>MPC_VotedIncrease</th>\n",
       "      <th>MPC_VotedStay</th>\n",
       "      <th>MPC_VotedDecrease</th>\n",
       "      <th>MPC_PropVotedIncRate</th>\n",
       "      <th>MPC_PropVotedDecRate</th>\n",
       "      <th>MPC_PropVotedStayRate</th>\n",
       "      <th>MPC_DecisionStrength</th>\n",
       "      <th>MPC_StockGovtBond</th>\n",
       "      <th>MPC_StockCorpBond</th>\n",
       "      <th>MPC_BondStock</th>\n",
       "      <th>MPC_PreviousBondStock</th>\n",
       "      <th>MPC_BondStock_Change</th>\n",
       "      <th>MPC_QEDec</th>\n",
       "    </tr>\n",
       "  </thead>\n",
       "  <tbody>\n",
       "    <tr>\n",
       "      <th>0</th>\n",
       "      <td>1997-06-06</td>\n",
       "      <td>0.0625</td>\n",
       "      <td>0.0650</td>\n",
       "      <td>Increase</td>\n",
       "      <td>0.0025</td>\n",
       "      <td>6.0</td>\n",
       "      <td>0.0</td>\n",
       "      <td>0.0</td>\n",
       "      <td>1.0</td>\n",
       "      <td>0.0</td>\n",
       "      <td>0.0</td>\n",
       "      <td>1.0</td>\n",
       "      <td>NaN</td>\n",
       "      <td>NaN</td>\n",
       "      <td>NaN</td>\n",
       "      <td>NaN</td>\n",
       "      <td>NaN</td>\n",
       "      <td>NaN</td>\n",
       "    </tr>\n",
       "    <tr>\n",
       "      <th>1</th>\n",
       "      <td>1997-07-10</td>\n",
       "      <td>0.0650</td>\n",
       "      <td>0.0675</td>\n",
       "      <td>Increase</td>\n",
       "      <td>0.0025</td>\n",
       "      <td>6.0</td>\n",
       "      <td>0.0</td>\n",
       "      <td>0.0</td>\n",
       "      <td>1.0</td>\n",
       "      <td>0.0</td>\n",
       "      <td>0.0</td>\n",
       "      <td>1.0</td>\n",
       "      <td>NaN</td>\n",
       "      <td>NaN</td>\n",
       "      <td>NaN</td>\n",
       "      <td>NaN</td>\n",
       "      <td>NaN</td>\n",
       "      <td>NaN</td>\n",
       "    </tr>\n",
       "    <tr>\n",
       "      <th>2</th>\n",
       "      <td>1997-08-07</td>\n",
       "      <td>0.0675</td>\n",
       "      <td>0.0700</td>\n",
       "      <td>Increase</td>\n",
       "      <td>0.0025</td>\n",
       "      <td>5.0</td>\n",
       "      <td>0.0</td>\n",
       "      <td>0.0</td>\n",
       "      <td>1.0</td>\n",
       "      <td>0.0</td>\n",
       "      <td>0.0</td>\n",
       "      <td>1.0</td>\n",
       "      <td>NaN</td>\n",
       "      <td>NaN</td>\n",
       "      <td>NaN</td>\n",
       "      <td>NaN</td>\n",
       "      <td>NaN</td>\n",
       "      <td>NaN</td>\n",
       "    </tr>\n",
       "    <tr>\n",
       "      <th>3</th>\n",
       "      <td>1997-09-11</td>\n",
       "      <td>0.0700</td>\n",
       "      <td>0.0700</td>\n",
       "      <td>Stay</td>\n",
       "      <td>0.0000</td>\n",
       "      <td>0.0</td>\n",
       "      <td>7.0</td>\n",
       "      <td>0.0</td>\n",
       "      <td>0.0</td>\n",
       "      <td>0.0</td>\n",
       "      <td>1.0</td>\n",
       "      <td>1.0</td>\n",
       "      <td>NaN</td>\n",
       "      <td>NaN</td>\n",
       "      <td>NaN</td>\n",
       "      <td>NaN</td>\n",
       "      <td>NaN</td>\n",
       "      <td>NaN</td>\n",
       "    </tr>\n",
       "    <tr>\n",
       "      <th>4</th>\n",
       "      <td>1997-10-09</td>\n",
       "      <td>0.0700</td>\n",
       "      <td>0.0700</td>\n",
       "      <td>Stay</td>\n",
       "      <td>0.0000</td>\n",
       "      <td>0.0</td>\n",
       "      <td>7.0</td>\n",
       "      <td>0.0</td>\n",
       "      <td>0.0</td>\n",
       "      <td>0.0</td>\n",
       "      <td>1.0</td>\n",
       "      <td>1.0</td>\n",
       "      <td>NaN</td>\n",
       "      <td>NaN</td>\n",
       "      <td>NaN</td>\n",
       "      <td>NaN</td>\n",
       "      <td>NaN</td>\n",
       "      <td>NaN</td>\n",
       "    </tr>\n",
       "  </tbody>\n",
       "</table>\n",
       "</div>"
      ],
      "text/plain": [
       "  MPC_MeetingDate  MPC_PreviousRate  MPC_RateDecided MPC_RateDecision  \\\n",
       "0      1997-06-06            0.0625           0.0650         Increase   \n",
       "1      1997-07-10            0.0650           0.0675         Increase   \n",
       "2      1997-08-07            0.0675           0.0700         Increase   \n",
       "3      1997-09-11            0.0700           0.0700             Stay   \n",
       "4      1997-10-09            0.0700           0.0700             Stay   \n",
       "\n",
       "   MPC_RateChange  MPC_VotedIncrease  MPC_VotedStay  MPC_VotedDecrease  \\\n",
       "0          0.0025                6.0            0.0                0.0   \n",
       "1          0.0025                6.0            0.0                0.0   \n",
       "2          0.0025                5.0            0.0                0.0   \n",
       "3          0.0000                0.0            7.0                0.0   \n",
       "4          0.0000                0.0            7.0                0.0   \n",
       "\n",
       "   MPC_PropVotedIncRate  MPC_PropVotedDecRate  MPC_PropVotedStayRate  \\\n",
       "0                   1.0                   0.0                    0.0   \n",
       "1                   1.0                   0.0                    0.0   \n",
       "2                   1.0                   0.0                    0.0   \n",
       "3                   0.0                   0.0                    1.0   \n",
       "4                   0.0                   0.0                    1.0   \n",
       "\n",
       "   MPC_DecisionStrength  MPC_StockGovtBond  MPC_StockCorpBond  MPC_BondStock  \\\n",
       "0                   1.0                NaN                NaN            NaN   \n",
       "1                   1.0                NaN                NaN            NaN   \n",
       "2                   1.0                NaN                NaN            NaN   \n",
       "3                   1.0                NaN                NaN            NaN   \n",
       "4                   1.0                NaN                NaN            NaN   \n",
       "\n",
       "   MPC_PreviousBondStock  MPC_BondStock_Change MPC_QEDec  \n",
       "0                    NaN                   NaN       NaN  \n",
       "1                    NaN                   NaN       NaN  \n",
       "2                    NaN                   NaN       NaN  \n",
       "3                    NaN                   NaN       NaN  \n",
       "4                    NaN                   NaN       NaN  "
      ]
     },
     "execution_count": 6,
     "metadata": {},
     "output_type": "execute_result"
    }
   ],
   "source": [
    "mpc.head()"
   ]
  },
  {
   "cell_type": "markdown",
   "metadata": {},
   "source": [
    "### 3.2.4 Preprocessing ONS and Other Economic Indicators "
   ]
  },
  {
   "cell_type": "markdown",
   "metadata": {},
   "source": [
    "In brief, the following steps were taken:\n",
    "\n",
    "* The `NOMIS_Economic activity_Raw.xlsx` and `ONS_Vacancies_Raw.xlsx` were cleaned and preprocessed. As both of these datasets were for quarterly reporting periods, they were combined by data into the dataframe, `EcoQ_Processed.csv`, which is presented below\n",
    "<br>\n",
    "<br>\n",
    "* The `ONS_GDP_Raw.xlsx`, `ONS_CPI and CPIH_Monthly indices_Raw.xlsx`, `ONS_CPI and CPIH_Monthly indices_Raw.xlsx` and `ONS_Real AWE_Monthly_Raw.xlsx`. As these datasets were all reporting on monthly periods, they were combined into the dataframe ''EcoM_Processed.csv', which is presented below. \n",
    "\n",
    "Please see the Notebook `Economic_indicators_Preprocessing.ipynb` for all of the code for this preprocessing.\n",
    "\n",
    "Here is the metadata for these dataframes, first `EcoQ_Processed`:\n",
    "\n",
    "Here is the metadata for this dataframe:\n",
    "<div class=\"alert alert-block alert-info\">\n",
    "<b>Alison:</b> Could you kindly add the Descriptions here and to the one below? Thank you!\n",
    "</div>"
   ]
  },
  {
   "cell_type": "markdown",
   "metadata": {},
   "source": [
    "| **Column**             | **Description**                                                                                                                                |\n",
    "|:--- |:--- |\n",
    "| 3mths_ending\t               | Description here  |\n",
    "| UnemploymentRate | Description here                                                                                                                  |\n",
    "| Vacancies(000s) | Description here                 |\n",
    "| Unemployed(000s)| Description here |\n",
    "| UnEmp/Vacancy| Description here    |\n"
   ]
  },
  {
   "cell_type": "markdown",
   "metadata": {},
   "source": [
    "Next, `EcoM_Processed`:"
   ]
  },
  {
   "cell_type": "markdown",
   "metadata": {},
   "source": [
    "| **Column**             | **Description**                                                                                                                                |\n",
    "|:--- |:--- |\n",
    "| MonthRefers\t               | Description here  |\n",
    "| GDP | Description here                                                                                                                  |\n",
    "| CPIH | Description here                 |\n",
    "| CPI| Description here |\n",
    "| AWE_Real_2015| Description here    |\n"
   ]
  },
  {
   "cell_type": "code",
   "execution_count": null,
   "metadata": {},
   "outputs": [],
   "source": [
    "EcoQ_Processed = pd.read_csv('EcoQ_Processed.csv')"
   ]
  },
  {
   "cell_type": "code",
   "execution_count": null,
   "metadata": {},
   "outputs": [],
   "source": [
    "EcoQ_Processed.head()"
   ]
  },
  {
   "cell_type": "code",
   "execution_count": null,
   "metadata": {},
   "outputs": [],
   "source": [
    "EcoM_Processed = pd.read_csv('EcoM_Processed.csv')"
   ]
  },
  {
   "cell_type": "code",
   "execution_count": null,
   "metadata": {},
   "outputs": [],
   "source": [
    "EcoM_Processed.head()"
   ]
  },
  {
   "cell_type": "markdown",
   "metadata": {},
   "source": [
    "## 4. Data Analysis"
   ]
  },
  {
   "cell_type": "markdown",
   "metadata": {},
   "source": [
    "In this section, we carry out the analysis to answer each of the business questions in turn, using the above joined datasets."
   ]
  },
  {
   "cell_type": "markdown",
   "metadata": {
    "slideshow": {
     "slide_type": "slide"
    }
   },
   "source": [
    "### 4.1 Analysis: Has the sentiment of central bank speeches changed over time? If so, how has it changed?\n"
   ]
  },
  {
   "cell_type": "code",
   "execution_count": null,
   "metadata": {},
   "outputs": [],
   "source": []
  },
  {
   "cell_type": "markdown",
   "metadata": {},
   "source": [
    "### 4.2 Analysis: How does the sentiment of the Bank of England’s speeches correlate with key events such as:\n",
    "* bank rate decisions (including direction/magnitude of the change)\n",
    "* publication of the Monetary Policy Report\n",
    "* publication of the Financial Stability Report/Review\n",
    "* any other events or trends that may be relevant or interesting?"
   ]
  },
  {
   "cell_type": "markdown",
   "metadata": {},
   "source": [
    "### 4.3 How does the sentiment of speeches correlate with key economic indicators of the UK, such as:\n",
    "* GDP growth\n",
    "* inflation\n",
    "* labour market statistics (e.g. unemployment and wages)\n",
    "* any other economic indicators that may be relevant or interesting."
   ]
  },
  {
   "cell_type": "markdown",
   "metadata": {},
   "source": [
    "### 4.4 Do these speeches have any predictive power to assist in predicting market behaviour?"
   ]
  },
  {
   "cell_type": "markdown",
   "metadata": {},
   "source": [
    "### 4.5 Are there other insights or findings from the analysis that may be of interest to the organisation?"
   ]
  },
  {
   "cell_type": "markdown",
   "metadata": {},
   "source": [
    "### 4.6 What are the potential reasons for any of the correlations discovered above? How have you drawn these conclusions?"
   ]
  },
  {
   "cell_type": "markdown",
   "metadata": {},
   "source": [
    "## Appendix A: List of Files Needed for this Notebook"
   ]
  },
  {
   "cell_type": "markdown",
   "metadata": {},
   "source": [
    "These are the files that are needed to run this Notebook:\n",
    "\n",
    "* `uk_speeches_sentiments_processed_V1.0.csv`\n",
    "* `MPC_Processed.csv`\n",
    "* `EcoQ_Processed.csv`\n",
    "* `EcoM_Processed.csv`"
   ]
  },
  {
   "cell_type": "markdown",
   "metadata": {},
   "source": [
    "## Appendix B: List of Accompanying Notebooks"
   ]
  },
  {
   "cell_type": "markdown",
   "metadata": {},
   "source": [
    "* `scraping_speeches.ippynb`\n",
    "* `monetary_policy_reports_beautifulsoup.ipynb`\n",
    "* `financial_stability_reports_beautifulsoup.ipynb`\n",
    "* `(Insert list of NLP preprocessing notebooks once confirmed by Val)`\n",
    "* `BoE_MPCVoting_Preprocessing.ipynb`\n",
    "* `Economic_indicators_Preprocessing.ipynb` \n",
    "\n",
    "(I will add a note explaining what each one is once we have a complete list)"
   ]
  }
 ],
 "metadata": {
  "kernelspec": {
   "display_name": "Python 3 (ipykernel)",
   "language": "python",
   "name": "python3"
  },
  "language_info": {
   "codemirror_mode": {
    "name": "ipython",
    "version": 3
   },
   "file_extension": ".py",
   "mimetype": "text/x-python",
   "name": "python",
   "nbconvert_exporter": "python",
   "pygments_lexer": "ipython3",
   "version": "3.11.4"
  }
 },
 "nbformat": 4,
 "nbformat_minor": 4
}
